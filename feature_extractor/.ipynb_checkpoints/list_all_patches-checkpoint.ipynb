{
 "cells": [
  {
   "cell_type": "code",
   "execution_count": 1,
   "id": "d48dd68c-b125-4479-985c-ed8b1c83fb36",
   "metadata": {},
   "outputs": [],
   "source": [
    "import glob\n",
    "import pandas as pd"
   ]
  },
  {
   "cell_type": "code",
   "execution_count": 2,
   "id": "502075d7-21d5-4efe-9d10-2dd91b07b13c",
   "metadata": {},
   "outputs": [],
   "source": [
    "path = '/workspace/data/cv_methods/tmi2022/WSI/'"
   ]
  },
  {
   "cell_type": "code",
   "execution_count": 3,
   "id": "4b6fd291-8243-43a4-97cd-edf440b94cc0",
   "metadata": {},
   "outputs": [],
   "source": [
    "patch_path = glob.glob(path + '/*/*/*/*') "
   ]
  },
  {
   "cell_type": "code",
   "execution_count": 10,
   "id": "3c30af46-e94b-41c6-8a80-f08c4b797cfd",
   "metadata": {},
   "outputs": [],
   "source": [
    "df = pd.DataFrame(patch_path)\n",
    "df.to_csv('all_patches.csv', index=False)"
   ]
  },
  {
   "cell_type": "code",
   "execution_count": null,
   "id": "4f4e28d2-428c-4d8d-80d6-cadaa288f68f",
   "metadata": {},
   "outputs": [],
   "source": []
  }
 ],
 "metadata": {
  "kernelspec": {
   "display_name": "Python 3 (ipykernel)",
   "language": "python",
   "name": "python3"
  },
  "language_info": {
   "codemirror_mode": {
    "name": "ipython",
    "version": 3
   },
   "file_extension": ".py",
   "mimetype": "text/x-python",
   "name": "python",
   "nbconvert_exporter": "python",
   "pygments_lexer": "ipython3",
   "version": "3.8.13"
  }
 },
 "nbformat": 4,
 "nbformat_minor": 5
}
