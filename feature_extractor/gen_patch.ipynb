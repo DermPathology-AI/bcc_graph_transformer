{
 "cells": [
  {
   "cell_type": "code",
   "execution_count": 1,
   "id": "0689c583-1ded-4038-8ff4-a1fd8689e731",
   "metadata": {},
   "outputs": [],
   "source": [
    "import glob\n",
    "import pandas as pd"
   ]
  },
  {
   "cell_type": "code",
   "execution_count": 2,
   "id": "e264e2f4-2991-4358-9221-2519d78d21c6",
   "metadata": {},
   "outputs": [
    {
     "data": {
      "text/plain": [
       "1371711"
      ]
     },
     "execution_count": 2,
     "metadata": {},
     "output_type": "execute_result"
    }
   ],
   "source": [
    "all_jpegs = glob.glob('/workspace/data/cv_methods/tmi2022/WSI/*/*/*')\n",
    "#all_jpegs = glob.glob('/workspace/data/cv_methods/dsmil-wsi/WSI/bcc/pyramid/*/*/*.jpeg')\n",
    "len(all_jpegs)"
   ]
  },
  {
   "cell_type": "code",
   "execution_count": 3,
   "id": "c72ca8aa-06f6-496b-a6cb-30ce8e3bfa2e",
   "metadata": {},
   "outputs": [],
   "source": [
    "all_jpegs_df = pd.DataFrame(all_jpegs)"
   ]
  },
  {
   "cell_type": "code",
   "execution_count": 4,
   "id": "da0ea327-c41c-45b3-aaae-a2f7955eb882",
   "metadata": {},
   "outputs": [],
   "source": [
    "all_jpegs_df.to_csv('all_patches.csv', index=False)"
   ]
  },
  {
   "cell_type": "code",
   "execution_count": 5,
   "id": "e169cf08-0397-4b09-95eb-8bc2022ad58f",
   "metadata": {},
   "outputs": [
    {
     "data": {
      "text/plain": [
       "1371711"
      ]
     },
     "execution_count": 5,
     "metadata": {},
     "output_type": "execute_result"
    }
   ],
   "source": [
    "len(all_jpegs)"
   ]
  }
 ],
 "metadata": {
  "kernelspec": {
   "display_name": "Python 3 (ipykernel)",
   "language": "python",
   "name": "python3"
  },
  "language_info": {
   "codemirror_mode": {
    "name": "ipython",
    "version": 3
   },
   "file_extension": ".py",
   "mimetype": "text/x-python",
   "name": "python",
   "nbconvert_exporter": "python",
   "pygments_lexer": "ipython3",
   "version": "3.8.13"
  }
 },
 "nbformat": 4,
 "nbformat_minor": 5
}
