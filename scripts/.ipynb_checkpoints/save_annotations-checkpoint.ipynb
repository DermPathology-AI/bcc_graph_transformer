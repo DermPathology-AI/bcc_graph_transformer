{
 "cells": [
  {
   "cell_type": "code",
   "execution_count": 11,
   "id": "9667d43c-4b21-4a78-90d2-646d46046650",
   "metadata": {},
   "outputs": [],
   "source": [
    "import pandas as pd\n",
    "import numpy as np\n",
    "bcc_annotation = pd.read_csv('/workspace/data/cv_methods/dsmil-wsi/simclr/bcc_annotations.csv',delimiter=';')\n"
   ]
  },
  {
   "cell_type": "code",
   "execution_count": null,
   "id": "b8c19929-ee3d-49d9-a305-5925796611b1",
   "metadata": {},
   "outputs": [],
   "source": [
    "bcc_annotation[bcc_annotation.label=='1.0']"
   ]
  }
 ],
 "metadata": {
  "kernelspec": {
   "display_name": "Python 3 (ipykernel)",
   "language": "python",
   "name": "python3"
  },
  "language_info": {
   "codemirror_mode": {
    "name": "ipython",
    "version": 3
   },
   "file_extension": ".py",
   "mimetype": "text/x-python",
   "name": "python",
   "nbconvert_exporter": "python",
   "pygments_lexer": "ipython3",
   "version": "3.8.13"
  }
 },
 "nbformat": 4,
 "nbformat_minor": 5
}
