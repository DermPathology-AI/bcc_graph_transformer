{
 "cells": [
  {
   "cell_type": "code",
   "execution_count": 1,
   "id": "d51c3595-922a-414f-b34e-44b3e502ddda",
   "metadata": {},
   "outputs": [],
   "source": [
    "import os\n",
    "import pandas as pd\n",
    "import glob\n",
    "import numpy as np\n",
    "from file_names_2_df import file_names_2_df"
   ]
  },
  {
   "cell_type": "code",
   "execution_count": 2,
   "id": "ed96ccaf-9901-47b5-837e-23a69de9f2c4",
   "metadata": {},
   "outputs": [],
   "source": [
    "path_wsi = '/workspace/data/cv_methods/dsmil-wsi/WSI/bcc/single/single/'"
   ]
  },
  {
   "cell_type": "code",
   "execution_count": 3,
   "id": "42b9421b-caf3-4eda-a5d4-c24c98338e90",
   "metadata": {},
   "outputs": [
    {
     "data": {
      "text/html": [
       "<div>\n",
       "<style scoped>\n",
       "    .dataframe tbody tr th:only-of-type {\n",
       "        vertical-align: middle;\n",
       "    }\n",
       "\n",
       "    .dataframe tbody tr th {\n",
       "        vertical-align: top;\n",
       "    }\n",
       "\n",
       "    .dataframe thead th {\n",
       "        text-align: right;\n",
       "    }\n",
       "</style>\n",
       "<table border=\"1\" class=\"dataframe\">\n",
       "  <thead>\n",
       "    <tr style=\"text-align: right;\">\n",
       "      <th></th>\n",
       "      <th>bcc code</th>\n",
       "      <th>address</th>\n",
       "      <th>temp label</th>\n",
       "      <th>label</th>\n",
       "    </tr>\n",
       "  </thead>\n",
       "  <tbody>\n",
       "    <tr>\n",
       "      <th>0</th>\n",
       "      <td>BCC3-3</td>\n",
       "      <td>/workspace/data/cv_methods/dsmil-wsi/WSI/bcc/s...</td>\n",
       "      <td>0</td>\n",
       "      <td>0</td>\n",
       "    </tr>\n",
       "    <tr>\n",
       "      <th>1</th>\n",
       "      <td>BCC3-2</td>\n",
       "      <td>/workspace/data/cv_methods/dsmil-wsi/WSI/bcc/s...</td>\n",
       "      <td>1a</td>\n",
       "      <td>1</td>\n",
       "    </tr>\n",
       "  </tbody>\n",
       "</table>\n",
       "</div>"
      ],
      "text/plain": [
       "  bcc code                                            address  temp label  \\\n",
       "0   BCC3-3  /workspace/data/cv_methods/dsmil-wsi/WSI/bcc/s...           0   \n",
       "1   BCC3-2  /workspace/data/cv_methods/dsmil-wsi/WSI/bcc/s...          1a   \n",
       "\n",
       "  label  \n",
       "0     0  \n",
       "1     1  "
      ]
     },
     "execution_count": 3,
     "metadata": {},
     "output_type": "execute_result"
    }
   ],
   "source": [
    "annotated = file_names_2_df(path_wsi, split_by = '/')\n",
    "annotated"
   ]
  },
  {
   "cell_type": "code",
   "execution_count": 10,
   "id": "969cdd82-7c51-4fe6-99de-cbff550a59ac",
   "metadata": {},
   "outputs": [
    {
     "name": "stdout",
     "output_type": "stream",
     "text": [
      "/workspace/data/cv_methods/dsmil-wsi/WSI/bcc/single/single/BCC3 (3)_0\n",
      "/workspace/data/cv_methods/dsmil-wsi/WSI/bcc/single/single/BCC3 (2)_1a\n"
     ]
    }
   ],
   "source": [
    "pathes_label = '\n",
    "for g in glob.glob(path_wsi + '*'):\n",
    "    print(g)"
   ]
  },
  {
   "cell_type": "code",
   "execution_count": 5,
   "id": "4b1aa787-5720-4ec2-8b66-c77d2d8f66b4",
   "metadata": {},
   "outputs": [
    {
     "name": "stderr",
     "output_type": "stream",
     "text": [
      "/opt/conda/lib/python3.8/site-packages/IPython/core/interactiveshell.py:3369: FutureWarning: In a future version of pandas all arguments of read_csv except for the argument 'filepath_or_buffer' will be keyword-only\n",
      "  exec(code_obj, self.user_global_ns, self.user_ns)\n"
     ]
    }
   ],
   "source": [
    "annotated = pd.read_csv('bcc_annotations.csv', ';')"
   ]
  },
  {
   "cell_type": "code",
   "execution_count": 6,
   "id": "c54d0808-3afe-4e12-a01d-9771a9369955",
   "metadata": {},
   "outputs": [
    {
     "data": {
      "text/plain": [
       "0"
      ]
     },
     "execution_count": 6,
     "metadata": {},
     "output_type": "execute_result"
    }
   ],
   "source": [
    "np.sum(annotated['bcc code']=='BCC3 (3)_0')"
   ]
  }
 ],
 "metadata": {
  "kernelspec": {
   "display_name": "Python 3 (ipykernel)",
   "language": "python",
   "name": "python3"
  },
  "language_info": {
   "codemirror_mode": {
    "name": "ipython",
    "version": 3
   },
   "file_extension": ".py",
   "mimetype": "text/x-python",
   "name": "python",
   "nbconvert_exporter": "python",
   "pygments_lexer": "ipython3",
   "version": "3.8.13"
  }
 },
 "nbformat": 4,
 "nbformat_minor": 5
}
