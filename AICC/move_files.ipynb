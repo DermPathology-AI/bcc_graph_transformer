{
 "cells": [
  {
   "cell_type": "code",
   "execution_count": 9,
   "id": "3ebd1120-79ad-4f10-9d9f-a177254fdf8f",
   "metadata": {},
   "outputs": [],
   "source": [
    "import glob\n",
    "import pandas as pd\n",
    "import numpy as np\n",
    "import shutil\n",
    "from tqdm import tqdm\n",
    "import re\n",
    "from sklearn import model_selection \n",
    "from file_names_2_df_patient_id import file_names_2_df_patient\n",
    "import subprocess"
   ]
  },
  {
   "cell_type": "code",
   "execution_count": null,
   "id": "8fefbc2a-fe3d-4d23-92b8-6bc4fa7b6d3f",
   "metadata": {},
   "outputs": [],
   "source": [
    "len(glob.glob('/workspace/data/bcc-projekt-digital/bcc/*/*'))"
   ]
  },
  {
   "cell_type": "code",
   "execution_count": null,
   "id": "e3dba375-8384-4d9d-ac93-38ae1058ccef",
   "metadata": {},
   "outputs": [],
   "source": [
    "uploaded_files = glob.glob('/workspace/data/bcc-projekt-digital/*')"
   ]
  },
  {
   "cell_type": "code",
   "execution_count": null,
   "id": "d9f8ce7a-536c-4e1a-b69b-cf1d4c9013f6",
   "metadata": {},
   "outputs": [],
   "source": [
    "bcc_annotation = pd.read_csv('bcc_annotations.csv', delimiter=';')"
   ]
  },
  {
   "cell_type": "code",
   "execution_count": null,
   "id": "9ed18327-8269-45de-a69c-efa2363fdfb2",
   "metadata": {},
   "outputs": [],
   "source": [
    "bcc_annotation.sample()"
   ]
  },
  {
   "cell_type": "code",
   "execution_count": null,
   "id": "7b6824ce-ee15-40b4-a90e-acdd154358b5",
   "metadata": {},
   "outputs": [],
   "source": [
    "def move_2_catagories():\n",
    "    for uploaded_file in uploaded_files:\n",
    "        label = bcc_annotation[bcc_annotation['names'] == uploaded_file.split('/')[-1]]['label']\n",
    "        try:\n",
    "            if float(label) == 0.0:\n",
    "                shutil.move(uploaded_file, '/workspace/data/bcc-projekt-digital/bcc/0/')\n",
    "            elif float(label) == 1.0:\n",
    "                shutil.move(uploaded_file, '/workspace/data/bcc-projekt-digital/bcc/1/')\n",
    "            elif float(label) == 2.0:\n",
    "                shutil.move(uploaded_file, '/workspace/data/bcc-projekt-digital/bcc/2/')\n",
    "            elif float(label) == 3.0:\n",
    "                shutil.move(uploaded_file, '/workspace/data/bcc-projekt-digital/bcc/3/')\n",
    "            elif float(label) == 4.0:\n",
    "                shutil.move(uploaded_file, '/workspace/data/bcc-projekt-digital/bcc/4/')\n",
    "        except Exception as  e:\n",
    "            print(e)"
   ]
  },
  {
   "cell_type": "code",
   "execution_count": null,
   "id": "388e4cbe-b03e-4478-b559-493c3517d15a",
   "metadata": {
    "tags": []
   },
   "outputs": [],
   "source": [
    "#move_2_catagories()"
   ]
  },
  {
   "cell_type": "code",
   "execution_count": null,
   "id": "1cab1f1a-19be-4772-bbac-215a107fa23e",
   "metadata": {},
   "outputs": [],
   "source": [
    "def move_2_catagories_tiled():\n",
    "    tiled_files = glob.glob('/workspace/data/cv_methods/tmi2022/WSI/*')\n",
    "    for tiled_file in tqdm(tiled_files):\n",
    "        label = bcc_annotation[bcc_annotation['names'] == (tiled_file.replace('_files','')+'.ndpi').split('/')[-1]]['label']\n",
    "        try:\n",
    "            tiled_file_dsmil = tiled_file.replace('_files','').split('/')[-1]\n",
    "            if float(label) == 0.0:\n",
    "                shutil.copytree(tiled_file, f'/workspace/data/cv_methods/dsmil-wsi/WSI/bcc/single/0/{tiled_file_dsmil}')\n",
    "            elif float(label) == 1.0:\n",
    "                shutil.copytree(tiled_file, f'/workspace/data/cv_methods/dsmil-wsi/WSI/bcc/single/1/{tiled_file_dsmil}')\n",
    "            elif float(label) == 2.0:\n",
    "                shutil.copytree(tiled_file, f'/workspace/data/cv_methods/dsmil-wsi/WSI/bcc/single/2/{tiled_file_dsmil}')\n",
    "            elif float(label) == 3.0:\n",
    "                shutil.copytree(tiled_file, f'/workspace/data/cv_methods/dsmil-wsi/WSI/bcc/single/3/{tiled_file_dsmil}')\n",
    "            elif float(label) == 4.0:\n",
    "                shutil.copytree(tiled_file, f'/workspace/data/cv_methods/dsmil-wsi/WSI/bcc/single/4/{tiled_file_dsmil}')\n",
    "        except Exception as  e:\n",
    "            print(e)"
   ]
  },
  {
   "cell_type": "code",
   "execution_count": null,
   "id": "120135d1-e213-4ef2-8245-a8e475ccd5f0",
   "metadata": {},
   "outputs": [],
   "source": [
    "#move_2_catagories_tiled()"
   ]
  },
  {
   "cell_type": "code",
   "execution_count": null,
   "id": "eb911c52-f046-4510-9a63-52d92d982bbf",
   "metadata": {},
   "outputs": [],
   "source": [
    "def move_2_catagories_tiled_pyramid():\n",
    "    tiled_files = glob.glob('/workspace/data/cv_methods/dsmil-wsi/WSI/bcc/pyramid/data/*')\n",
    "    for tiled_file in tqdm(tiled_files):\n",
    "        label = bcc_annotation[bcc_annotation['names'] == (tiled_file.replace('_files','')+'.ndpi').split('/')[-1]]['label']\n",
    "        try:\n",
    "            tiled_file_dsmil = tiled_file.replace('_files','').split('/')[-1]\n",
    "            if float(label) == 0.0:\n",
    "                shutil.copytree(tiled_file, f'/workspace/data/cv_methods/dsmil-wsi/WSI/bcc/pyramid/0/{tiled_file_dsmil}')\n",
    "            elif float(label) == 1.0:\n",
    "                shutil.copytree(tiled_file, f'/workspace/data/cv_methods/dsmil-wsi/WSI/bcc/pyramid/1/{tiled_file_dsmil}' )\n",
    "            elif float(label) == 2.0:\n",
    "                shutil.copytree(tiled_file, f'/workspace/data/cv_methods/dsmil-wsi/WSI/bcc/pyramid/2/{tiled_file_dsmil}')\n",
    "            elif float(label) == 3.0:\n",
    "                shutil.copytree(tiled_file, f'/workspace/data/cv_methods/dsmil-wsi/WSI/bcc/pyramid/3/{tiled_file_dsmil}')\n",
    "            elif float(label) == 4.0:\n",
    "                shutil.copytree(tiled_file, f'/workspace/data/cv_methods/dsmil-wsi/WSI/bcc/pyramid/4/{tiled_file_dsmil}')\n",
    "        except Exception as  e:\n",
    "            print(e)"
   ]
  },
  {
   "cell_type": "code",
   "execution_count": null,
   "id": "cbac3757-9b90-42a5-b4b2-b088404d5ee0",
   "metadata": {},
   "outputs": [],
   "source": [
    "move_2_catagories_tiled_pyramid()"
   ]
  },
  {
   "cell_type": "code",
   "execution_count": null,
   "id": "44008216-5160-46c8-85fb-a6453c476b62",
   "metadata": {},
   "outputs": [],
   "source": [
    "def move_2_catagories_tiled_20():\n",
    "    from pathlib import Path\n",
    "    tiled_files_20 = glob.glob(f'/workspace/data/cv_methods/dsmil-wsi/WSI/bcc/single/*/*/*/*')\n",
    "    for tiled_file_20 in tqdm(tiled_files_20):\n",
    "        try:\n",
    "            #print(tiled_file_20)\n",
    "            #path_src=tiled_file_20 +'/20.0/'\n",
    "            #shutil.move(tiled_file_20, path_src)\n",
    "            parent_dir = Path(tiled_file_20).parents[1]\n",
    "            shutil.move(tiled_file_20, parent_dir)\n",
    "        except Exception as  e:\n",
    "            print(e)\n",
    "        \n",
    "        #parent_dir = Path(tiled_file_20).parents[1]\n",
    "        #shutil.move(path, parent_dir)\n",
    "\n",
    "        "
   ]
  },
  {
   "cell_type": "code",
   "execution_count": null,
   "id": "f4591a73-545d-4fd7-ba17-50a6892509fa",
   "metadata": {},
   "outputs": [],
   "source": [
    "#move_2_catagories_tiled_20()"
   ]
  },
  {
   "cell_type": "code",
   "execution_count": null,
   "id": "1b631232-64f0-4812-b8da-05e4fe409f19",
   "metadata": {},
   "outputs": [],
   "source": [
    "#tiled_files_20 = glob.glob(f'/workspace/data/cv_methods/dsmil-wsi/WSI/bcc/single/*/*/*')\n",
    "#tiled_files_20"
   ]
  },
  {
   "cell_type": "code",
   "execution_count": null,
   "id": "6ce488fc-a220-41b4-8435-4ef3cb982fa6",
   "metadata": {},
   "outputs": [],
   "source": [
    "#train_set, val_set = annotation_graph_trans()"
   ]
  },
  {
   "cell_type": "code",
   "execution_count": null,
   "id": "b5be11f7-ad33-4b97-b076-09e064bfe95d",
   "metadata": {},
   "outputs": [],
   "source": [
    "def get_label_percentage(data):\n",
    "    return data['y'].value_counts()/data.shape[0]"
   ]
  },
  {
   "cell_type": "code",
   "execution_count": null,
   "id": "7cf6a8b1-6f78-466b-8990-6b6ec4edce6f",
   "metadata": {},
   "outputs": [],
   "source": [
    "get_label_percentage(val_set)"
   ]
  },
  {
   "cell_type": "code",
   "execution_count": null,
   "id": "07747933-d8cd-4d6c-9923-bfa95a7b950e",
   "metadata": {},
   "outputs": [],
   "source": [
    "annotation_graph_trans_3_classes()"
   ]
  },
  {
   "cell_type": "code",
   "execution_count": null,
   "id": "34725e98-a170-4247-9d45-9a983212ecd9",
   "metadata": {},
   "outputs": [],
   "source": [
    "def move_tiles_2_catagories():\n",
    "    path_base = '/workspace/data/cv_methods/dsmil-wsi/WSI/bcc/single/data/'\n",
    "    tiled_files = glob.glob(path_base + '/*')\n",
    "    for tiled_file in tiled_files:\n",
    "        print(tiled_file.split('/')[-1] + '.ndpi')\n",
    "        label = bcc_annotation[bcc_annotation['names'] == (tiled_file.split('/')[-1] + '.ndpi')]['label']\n",
    "        if float(label) == 0.0:\n",
    "            shutil.move(tiled_file, '/workspace/data/cv_methods/dsmil-wsi/WSI/bcc/single/0/')\n",
    "        elif float(label) == 1.0:\n",
    "            shutil.move(tiled_file, '/workspace/data/cv_methods/dsmil-wsi/WSI/bcc/single/1/')\n",
    "        elif float(label) == 2.0:\n",
    "            shutil.move(tiled_file, '/workspace/data/cv_methods/dsmil-wsi/WSI/bcc/single/2/')\n",
    "        elif float(label) == 3.0:\n",
    "            shutil.move(tiled_file, '/workspace/data/cv_methods/dsmil-wsi/WSI/bcc/single/3/')\n",
    "        elif float(label) == 4.0:\n",
    "            shutil.move(tiled_file, '/workspace/data/cv_methods/dsmil-wsi/WSI/bcc/single/4/')"
   ]
  },
  {
   "cell_type": "code",
   "execution_count": null,
   "id": "479442d1-aba2-4134-91c2-f609e06dbc2f",
   "metadata": {},
   "outputs": [],
   "source": [
    "move_tiles_2_catagories()"
   ]
  },
  {
   "cell_type": "code",
   "execution_count": null,
   "id": "1fb8ffe0-f299-4348-810c-19ef66a86d29",
   "metadata": {},
   "outputs": [],
   "source": [
    "dsmil_wsi_path = '/workspace/data/cv_methods/dsmil-wsi/WSI/bcc/pyramid/*/*/*.jpeg'"
   ]
  },
  {
   "cell_type": "code",
   "execution_count": null,
   "id": "25975d70-ac2d-472b-8eec-49807b522f2c",
   "metadata": {},
   "outputs": [],
   "source": [
    "dsmil_wsis = glob.glob(dsmil_wsi)"
   ]
  },
  {
   "cell_type": "code",
   "execution_count": null,
   "id": "6f78d8f4-4e56-4960-bb44-db124c8383eb",
   "metadata": {},
   "outputs": [],
   "source": [
    "import os"
   ]
  },
  {
   "cell_type": "code",
   "execution_count": null,
   "id": "54211422-d5bb-45b2-a53f-9877fd50f599",
   "metadata": {},
   "outputs": [],
   "source": [
    "for file in dsmil_wsis\n",
    "    folder_file = file.split('/')[-2:]\n",
    "    file_ds=f'/workspace/data/cv_methods/tmi2022/WSI/{folder_file[0]}_files/20.0/{folder_file[1]}'\n",
    "    if not os.path.exists(f'/workspace/data/cv_methods/tmi2022/WSI/{folder_file[0]}_files/20.0/'):\n",
    "        os.makedirs(f'/workspace/data/cv_methods/tmi2022/WSI/{folder_file[0]}_files/20.0/')\n",
    "    shutil.copy(file, file_ds)\n"
   ]
  },
  {
   "cell_type": "code",
   "execution_count": null,
   "id": "64ace997-3aea-488f-8721-79d4a8005d99",
   "metadata": {},
   "outputs": [],
   "source": []
  }
 ],
 "metadata": {
  "kernelspec": {
   "display_name": "Python 3 (ipykernel)",
   "language": "python",
   "name": "python3"
  },
  "language_info": {
   "codemirror_mode": {
    "name": "ipython",
    "version": 3
   },
   "file_extension": ".py",
   "mimetype": "text/x-python",
   "name": "python",
   "nbconvert_exporter": "python",
   "pygments_lexer": "ipython3",
   "version": "3.8.13"
  }
 },
 "nbformat": 4,
 "nbformat_minor": 5
}
