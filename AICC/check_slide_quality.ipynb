{
 "cells": [
  {
   "cell_type": "markdown",
   "id": "d255c205-8c8d-4a95-a1c5-d8a0cb5de378",
   "metadata": {},
   "source": [
    "## Setup "
   ]
  },
  {
   "cell_type": "code",
   "execution_count": 1,
   "id": "f652fd36-aeb2-4521-8ebd-678351e5fd3c",
   "metadata": {},
   "outputs": [],
   "source": [
    "# Need to download this note book to use it"
   ]
  },
  {
   "cell_type": "code",
   "execution_count": 1,
   "id": "94e2240f-59c6-4f21-a6b4-e9d3788f12cc",
   "metadata": {},
   "outputs": [],
   "source": [
    "import os\n",
    "import glob\n",
    "import skimage\n",
    "import zipfile\n",
    "import numpy as np\n",
    "import pandas as pd\n",
    "from skimage import morphology\n",
    "\n",
    "import matplotlib.pyplot as plt\n",
    "from histolab.slide import Slide\n",
    "from histolab.tiler import ScoreTiler\n",
    "from histolab.scorer import NucleiScorer\n",
    "from histolab.tiler import RandomTiler, GridTiler"
   ]
  },
  {
   "cell_type": "markdown",
   "id": "5dbd0318-883d-43a4-8b67-d8c75bab9e12",
   "metadata": {},
   "source": [
    "### WSI original"
   ]
  },
  {
   "cell_type": "code",
   "execution_count": 20,
   "id": "d5004f46-d1fe-4732-b06b-0435892c3016",
   "metadata": {},
   "outputs": [
    {
     "name": "stdout",
     "output_type": "stream",
     "text": [
      "Slide name: BCC20 (3)_0_JS_0\n",
      "Levels: [0, 1, 2, 3, 4, 5, 6, 7, 8]\n",
      "Dimensions at level 0: (207360, 101376)\n",
      "Dimensions at level 1: (103680, 50688)\n",
      "Dimensions at level 2: (51840, 25344)\n",
      "Dimensions at level 3: (25920, 12672)\n",
      "Dimensions at level 4: (12960, 6336)\n",
      "Dimensions at level 5: (6480, 3168)\n",
      "Dimensions at level 6: (3240, 1584)\n",
      "Dimensions at level 7: (1620, 792)\n",
      "Dimensions at level 8: (810, 396)\n",
      "\n"
     ]
    }
   ],
   "source": [
    "slide_name = 'BCC20 (3)_0_JS_0.ndpi'\n",
    "path = f'P:/AI.Repository/BCC projekt-digital/{slide_name}'\n",
    "PROCESSED_PATH_PANDA = '/'\n",
    "slide_obj = Slide(path, processed_path=PROCESSED_PATH_PANDA)\n",
    "print(f\"Slide name: {slide_obj.name}\")\n",
    "slide_levels = slide_obj.levels\n",
    "print(f\"Levels: {slide_levels}\")\n",
    "for slide_level in slide_levels:#++++++++++++++++++++++++\n",
    "    print(f\"Dimensions at level {slide_level}: {slide_obj.level_dimensions(level=slide_level)}\")\n",
    "print()"
   ]
  },
  {
   "cell_type": "markdown",
   "id": "d687971f-ff7e-4bd9-92aa-cb3a8244b35e",
   "metadata": {},
   "source": [
    "### WSI anonymized"
   ]
  },
  {
   "cell_type": "code",
   "execution_count": 22,
   "id": "4388de7a-da8b-413b-8a71-694bddc5535d",
   "metadata": {},
   "outputs": [
    {
     "name": "stdout",
     "output_type": "stream",
     "text": [
      "Slide name: BCC20 (3)_0_JS_0\n",
      "Levels: [0, 1, 2, 3, 4, 5, 6, 7, 8]\n",
      "Dimensions at level 0: (207360, 101376)\n",
      "Dimensions at level 1: (103680, 50688)\n",
      "Dimensions at level 2: (51840, 25344)\n",
      "Dimensions at level 3: (25920, 12672)\n",
      "Dimensions at level 4: (12960, 6336)\n",
      "Dimensions at level 5: (6480, 3168)\n",
      "Dimensions at level 6: (3240, 1584)\n",
      "Dimensions at level 7: (1620, 792)\n",
      "Dimensions at level 8: (810, 396)\n",
      "\n"
     ]
    }
   ],
   "source": [
    "path = f'P:/AI.Repository/Anonym_data_copy/{slide_name}'\n",
    "slide_obj_ = Slide(path, processed_path=PROCESSED_PATH_PANDA)\n",
    "print(f\"Slide name: {slide_obj_.name}\")\n",
    "slide_levels = slide_obj_.levels\n",
    "print(f\"Levels: {slide_levels}\")\n",
    "for slide_level in slide_levels: #++++++++++++++++++++++++\n",
    "    print(f\"Dimensions at level {slide_level}: {slide_obj_.level_dimensions(level=slide_level)}\")\n",
    "print()"
   ]
  },
  {
   "cell_type": "code",
   "execution_count": null,
   "id": "9f82df32-25d4-4025-9a31-6e6b53d71b87",
   "metadata": {},
   "outputs": [],
   "source": [
    "#slide_obj.thumbnail\n",
    "#slide_obj.show()"
   ]
  },
  {
   "cell_type": "code",
   "execution_count": null,
   "id": "9bcfcd1c-8039-4de0-9f6e-45731635e86b",
   "metadata": {},
   "outputs": [],
   "source": [
    "'lowest': 119040, 71424\n",
    "'larget' :207360, 101376"
   ]
  }
 ],
 "metadata": {
  "kernelspec": {
   "display_name": "Python 3 (ipykernel)",
   "language": "python",
   "name": "python3"
  },
  "language_info": {
   "codemirror_mode": {
    "name": "ipython",
    "version": 3
   },
   "file_extension": ".py",
   "mimetype": "text/x-python",
   "name": "python",
   "nbconvert_exporter": "python",
   "pygments_lexer": "ipython3",
   "version": "3.8.13"
  }
 },
 "nbformat": 4,
 "nbformat_minor": 5
}
