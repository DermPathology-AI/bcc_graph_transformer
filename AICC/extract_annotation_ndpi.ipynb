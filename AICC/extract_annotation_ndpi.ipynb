{
 "cells": [
  {
   "cell_type": "markdown",
   "id": "609e66f9-1119-4502-ab3f-bdd944b700e2",
   "metadata": {
    "tags": []
   },
   "source": [
    "## Extract labels from file names"
   ]
  },
  {
   "cell_type": "code",
   "execution_count": 1,
   "id": "fc84d6a3-1dd1-4854-a743-ac00ee2663a5",
   "metadata": {},
   "outputs": [],
   "source": [
    "import pandas as pd\n",
    "import glob\n",
    "import numpy as np\n",
    "import matplotlib.pyplot as plt\n",
    "#from file_names_2_df import file_names_2_df"
   ]
  },
  {
   "cell_type": "code",
   "execution_count": 2,
   "id": "c739d7a2-f197-4646-a751-0130aaf8b830",
   "metadata": {},
   "outputs": [],
   "source": [
    "path = 'P:/AI.Repository/BCC projekt-digital/'"
   ]
  },
  {
   "cell_type": "code",
   "execution_count": 3,
   "id": "9f38f7b8-881c-4fd6-a1fa-fb0954a328ba",
   "metadata": {},
   "outputs": [
    {
     "ename": "NameError",
     "evalue": "name 'file_names_2_df' is not defined",
     "output_type": "error",
     "traceback": [
      "\u001b[0;31m---------------------------------------------------------------------------\u001b[0m",
      "\u001b[0;31mNameError\u001b[0m                                 Traceback (most recent call last)",
      "Input \u001b[0;32mIn [3]\u001b[0m, in \u001b[0;36m<cell line: 1>\u001b[0;34m()\u001b[0m\n\u001b[0;32m----> 1\u001b[0m annotated \u001b[38;5;241m=\u001b[39m \u001b[43mfile_names_2_df\u001b[49m(path, split_by\u001b[38;5;241m=\u001b[39m\u001b[38;5;124m'\u001b[39m\u001b[38;5;130;01m\\\\\u001b[39;00m\u001b[38;5;124m'\u001b[39m)\n",
      "\u001b[0;31mNameError\u001b[0m: name 'file_names_2_df' is not defined"
     ]
    }
   ],
   "source": [
    "annotated = file_names_2e_df(path, split_by='\\\\')\n",
    "#annotated.to_excel('P:/AI.Repository/bcc_annotations.xlsx')"
   ]
  },
  {
   "cell_type": "code",
   "execution_count": null,
   "id": "b2fd48ac-cb2c-4632-93f9-110c537f6b00",
   "metadata": {},
   "outputs": [],
   "source": []
  },
  {
   "cell_type": "code",
   "execution_count": null,
   "id": "d4da15f9-0998-403d-97b8-4e1c4b47cc42",
   "metadata": {},
   "outputs": [],
   "source": [
    "old_files = pd.read_excel('P:/AI.Repository/old_bcc_annotations.xlsx')\n",
    "annotated_old = file_names_2_df_temp(list(old_files.address), split_by='\\\\')\n",
    "annotated_old_2 = [b.replace('(', '-').replace(' ','').replace(')','') for b in list(annotated_old['bcc code'])]"
   ]
  },
  {
   "cell_type": "code",
   "execution_count": 4,
   "id": "e36fb5d0-c447-4a5d-8e79-91c2c6a79517",
   "metadata": {},
   "outputs": [
    {
     "ename": "NameError",
     "evalue": "name 'annotated' is not defined",
     "output_type": "error",
     "traceback": [
      "\u001b[0;31m---------------------------------------------------------------------------\u001b[0m",
      "\u001b[0;31mNameError\u001b[0m                                 Traceback (most recent call last)",
      "Input \u001b[0;32mIn [4]\u001b[0m, in \u001b[0;36m<cell line: 2>\u001b[0;34m()\u001b[0m\n\u001b[1;32m      1\u001b[0m fig \u001b[38;5;241m=\u001b[39m plt\u001b[38;5;241m.\u001b[39mfigure()\n\u001b[0;32m----> 2\u001b[0m \u001b[43mannotated\u001b[49m[\u001b[38;5;124m'\u001b[39m\u001b[38;5;124mlabel\u001b[39m\u001b[38;5;124m'\u001b[39m]\u001b[38;5;241m.\u001b[39mvalue_counts()\u001b[38;5;241m.\u001b[39mplot(kind\u001b[38;5;241m=\u001b[39m\u001b[38;5;124m'\u001b[39m\u001b[38;5;124mbar\u001b[39m\u001b[38;5;124m'\u001b[39m, xlabel\u001b[38;5;241m=\u001b[39m\u001b[38;5;124m'\u001b[39m\u001b[38;5;124mLabel\u001b[39m\u001b[38;5;124m'\u001b[39m, ylabel\u001b[38;5;241m=\u001b[39m\u001b[38;5;124m'\u001b[39m\u001b[38;5;124mNumber of WSI\u001b[39m\u001b[38;5;124m'\u001b[39m)\n\u001b[1;32m      3\u001b[0m total_annotated \u001b[38;5;241m=\u001b[39m \u001b[38;5;28mlen\u001b[39m(glob\u001b[38;5;241m.\u001b[39mglob(path \u001b[38;5;241m+\u001b[39m \u001b[38;5;124m'\u001b[39m\u001b[38;5;124m/*\u001b[39m\u001b[38;5;124m'\u001b[39m)) \u001b[38;5;241m-\u001b[39m annotated[\u001b[38;5;124m'\u001b[39m\u001b[38;5;124mlabel\u001b[39m\u001b[38;5;124m'\u001b[39m]\u001b[38;5;241m.\u001b[39misna()\u001b[38;5;241m.\u001b[39msum()\n\u001b[1;32m      4\u001b[0m plt\u001b[38;5;241m.\u001b[39mlegend([\u001b[38;5;124mf\u001b[39m\u001b[38;5;124m'\u001b[39m\u001b[38;5;124mTotal: \u001b[39m\u001b[38;5;132;01m{\u001b[39;00mtotal_annotated\u001b[38;5;132;01m}\u001b[39;00m\u001b[38;5;124m'\u001b[39m])\n",
      "\u001b[0;31mNameError\u001b[0m: name 'annotated' is not defined"
     ]
    },
    {
     "data": {
      "text/plain": [
       "<Figure size 432x288 with 0 Axes>"
      ]
     },
     "metadata": {},
     "output_type": "display_data"
    }
   ],
   "source": [
    "fig = plt.figure()\n",
    "annotated['label'].value_counts().plot(kind='bar', xlabel='Label', ylabel='Number of WSI')\n",
    "total_annotated = len(glob.glob(path + '/*')) - annotated['label'].isna().sum()\n",
    "plt.legend([f'Total: {total_annotated}'])\n",
    "plt.savefig('P:/AI.Repository/annoation_stat.jpg')\n",
    "# 406-453\n",
    "# 94-97"
   ]
  },
  {
   "cell_type": "markdown",
   "id": "de03025a-3055-47ca-b114-2e8ffecc56f7",
   "metadata": {},
   "source": [
    "### Number of patients "
   ]
  },
  {
   "cell_type": "code",
   "execution_count": null,
   "id": "43616a6d-647d-426b-9d47-75920e7aa3a9",
   "metadata": {},
   "outputs": [],
   "source": [
    "import re\n",
    "bcc_codes = list(annotated['bcc code'])\n",
    "num_patients = len(set([bcc for bcc_code in bcc_codes for bcc in re.findall('^BCC\\d+', bcc_code) if len(bcc)!=0]))"
   ]
  },
  {
   "cell_type": "code",
   "execution_count": null,
   "id": "84bb27f4-444e-4dc9-b229-625814998220",
   "metadata": {},
   "outputs": [],
   "source": [
    "num_patients"
   ]
  },
  {
   "cell_type": "code",
   "execution_count": null,
   "id": "724c037e-a395-4aa6-856a-85df6c619eb5",
   "metadata": {},
   "outputs": [],
   "source": []
  }
 ],
 "metadata": {
  "kernelspec": {
   "display_name": "Python 3 (ipykernel)",
   "language": "python",
   "name": "python3"
  },
  "language_info": {
   "codemirror_mode": {
    "name": "ipython",
    "version": 3
   },
   "file_extension": ".py",
   "mimetype": "text/x-python",
   "name": "python",
   "nbconvert_exporter": "python",
   "pygments_lexer": "ipython3",
   "version": "3.8.13"
  }
 },
 "nbformat": 4,
 "nbformat_minor": 5
}
