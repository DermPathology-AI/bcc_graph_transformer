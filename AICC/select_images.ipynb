{
 "cells": [
  {
   "cell_type": "code",
   "execution_count": null,
   "id": "d2612e83-5d62-4ed2-a690-751b53aab3c5",
   "metadata": {},
   "outputs": [],
   "source": [
    "import glob\n",
    "import matplotlib.pyplot as plt\n",
    "import numpy as np\n",
    "import random\n",
    "import shutil"
   ]
  },
  {
   "cell_type": "code",
   "execution_count": null,
   "id": "6e4761ab-f60b-4a00-9b79-170f4a2222cb",
   "metadata": {},
   "outputs": [],
   "source": [
    "selected_0 = {\n",
    "            'BCC228 (2)_1b_files':('81_53', '90_54'),\n",
    "            'BCC230 (6)_1b_files':('188_49', '121_59'),\n",
    "            'BCC235 (2)_1b_files': ('69_29',),\n",
    "            #'BCC236 (2)_1b_files': ('29_39',),\n",
    "            'BCC237 (7)_1b_files':('169_85', '65_40')\n",
    "            }\n",
    "\n",
    "selected_1b = {'BCC236 (2)_1b_files':('109_17', '109_26'),\n",
    "              'BCC239 (6)_1b_files':('160_61',),\n",
    "              'BCC226 (3)_1b_files':('114_75',),\n",
    "              'BCC228 (3)_1b_files':('22_53',),\n",
    "              'BCC232 (4)_1b_files':('25_44',)}\n",
    "\n",
    "selected_1a ={'BCC18 (3)_1a_files':('136_61',),\n",
    "              'BCC19 (1)_1a_files': ('19_63',),\n",
    "              'BCC19 (2)_1a_files': ('68_66','67_68', '72_51'),\n",
    "              'BCC20 (2)_1a_files': ('41_17', '43_33')}\n",
    "\n",
    "selected_2 = {'BCC443 (4)_2_files': ('63_17',),\n",
    "             'BCC443 (5)_2_files':('74_36', '132_24'),\n",
    "             'BCC448 (3)_2_files':('33_50','152_57','64_52','61_44')}\n",
    "\n",
    "selected_3 = {'BCC667 (3)_3_files':('62_33', '66_41','72_39'),\n",
    "             'BCC678 (3)_3_files':('160_65', '69_28', '71_44', '72_38','29_44')}"
   ]
  },
  {
   "cell_type": "code",
   "execution_count": null,
   "id": "d4cc6e8f-b028-4557-84b1-2de522873e79",
   "metadata": {},
   "outputs": [],
   "source": [
    "#selected_classes = [selected_0, selected_1b, selected_1a, selected_2, selected_3]\n",
    "selected_classes = [selected_0, selected_1b, selected_1a, selected_2, selected_3]\n",
    "for i, selected_class in enumerate(selected_classes):\n",
    "    for folder in selected_class:\n",
    "        for img in selected_class[folder]:\n",
    "            img = str(img) +'.jpeg'\n",
    "            im_path = f'/workspace/data/cv_methods/tmi2022/WSI/{folder}/20.0/{img}'\n",
    "            shutil.copy(im_path, f'selected_class_13/{i}/{img}')"
   ]
  },
  {
   "cell_type": "code",
   "execution_count": null,
   "id": "a3307e8a-1d8d-4605-acda-a4011ddd69ce",
   "metadata": {},
   "outputs": [],
   "source": [
    "file_name = 'BCC678 (3)_3_files'\n",
    "all_images = glob.glob(f'/workspace/data/cv_methods/tmi2022/WSI/{file_name}/20.0/*.jpeg')\n",
    "print(len(all_images))\n",
    "\n",
    "fig = plt.figure(figsize=(25,25))\n",
    "columns = 8\n",
    "rows    = 8\n",
    "for i in range(1, columns*rows +1):\n",
    "    ax = fig.add_subplot(rows, columns, i)\n",
    "    r = random.randint(0, len(all_images)-1)\n",
    "    plt.imshow(plt.imread(all_images[r]))\n",
    "    ax.title.set_text(all_images[r].split('/')[-1])\n",
    "    plt.axis('off')"
   ]
  },
  {
   "cell_type": "code",
   "execution_count": null,
   "id": "834b2cdd-4b0c-49f0-abac-db07d3fe70f4",
   "metadata": {},
   "outputs": [],
   "source": [
    "def draw_tiles(path,nrows=104, ncols=48):\n",
    "    fig, ax = plt.subplots(nrows=nrows, ncols=ncols, figsize=(10, 15))\n",
    "\n",
    "    for i, row in enumerate(ax):\n",
    "        for j, col in enumerate(row):\n",
    "            if f'{i}_{j}.jpeg' in jpgs_file_names:\n",
    "                col.imshow(plt.imread(path + f'{i}_{j}.jpeg'))\n",
    "            else:\n",
    "                col.imshow(np.zeros((224, 224, 3)) + 0.97)\n",
    "            col.yaxis.set_visible(False)\n",
    "            col.xaxis.set_visible(False)\n",
    "            plt.axis('off')\n",
    "            plt.tight_layout(pad=0) \n",
    "    plt.show()"
   ]
  },
  {
   "cell_type": "code",
   "execution_count": null,
   "id": "4b80ddd1-f793-4c17-a5dd-9da294ee09ae",
   "metadata": {},
   "outputs": [],
   "source": [
    "jpgs_file_names=[]\n",
    "for path in all_images:\n",
    "    jpgs_file_names.append(path.split('/')[-1])"
   ]
  },
  {
   "cell_type": "code",
   "execution_count": null,
   "id": "51f45f75-820b-48ac-98c3-ff4be6aacfa6",
   "metadata": {},
   "outputs": [],
   "source": [
    "path = '/workspace/data/cv_methods/dsmil-wsi/WSI/bcc/pyramid/0/BCC1 (4)_0/'\n",
    "#draw_tiles(path,nrows=30, ncols=20)"
   ]
  },
  {
   "cell_type": "code",
   "execution_count": null,
   "id": "f0c976bf-1751-47b2-b96d-9fffe7b261c8",
   "metadata": {},
   "outputs": [],
   "source": []
  }
 ],
 "metadata": {
  "kernelspec": {
   "display_name": "Python 3 (ipykernel)",
   "language": "python",
   "name": "python3"
  },
  "language_info": {
   "codemirror_mode": {
    "name": "ipython",
    "version": 3
   },
   "file_extension": ".py",
   "mimetype": "text/x-python",
   "name": "python",
   "nbconvert_exporter": "python",
   "pygments_lexer": "ipython3",
   "version": "3.8.13"
  }
 },
 "nbformat": 4,
 "nbformat_minor": 5
}
