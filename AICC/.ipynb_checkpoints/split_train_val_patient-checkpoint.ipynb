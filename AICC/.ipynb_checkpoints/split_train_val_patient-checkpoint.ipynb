{
 "cells": [
  {
   "cell_type": "markdown",
   "id": "5db077f6-2101-4dc7-bea7-e5694872aafc",
   "metadata": {},
   "source": [
    "# Extract labels from file names"
   ]
  },
  {
   "cell_type": "code",
   "execution_count": 34,
   "id": "c96289a7-d2d0-4497-8148-f237f6e6deee",
   "metadata": {},
   "outputs": [],
   "source": [
    "import re\n",
    "import glob\n",
    "import shutil\n",
    "import numpy as np\n",
    "import pandas as pd\n",
    "from tqdm import tqdm \n",
    "from scipy import stats\n",
    "import matplotlib.pyplot as plt\n",
    "from sklearn import model_selection \n",
    "from sklearn.model_selection import KFold\n",
    "from file_names_2_df_patient_id import file_names_2_df_patient"
   ]
  },
  {
   "cell_type": "code",
   "execution_count": 2,
   "id": "6b078c83-3c27-48d9-805e-fe5d8d9a4b1b",
   "metadata": {},
   "outputs": [
    {
     "data": {
      "text/html": [
       "<div>\n",
       "<style scoped>\n",
       "    .dataframe tbody tr th:only-of-type {\n",
       "        vertical-align: middle;\n",
       "    }\n",
       "\n",
       "    .dataframe tbody tr th {\n",
       "        vertical-align: top;\n",
       "    }\n",
       "\n",
       "    .dataframe thead th {\n",
       "        text-align: right;\n",
       "    }\n",
       "</style>\n",
       "<table border=\"1\" class=\"dataframe\">\n",
       "  <thead>\n",
       "    <tr style=\"text-align: right;\">\n",
       "      <th></th>\n",
       "      <th>bcc code</th>\n",
       "      <th>address</th>\n",
       "      <th>names</th>\n",
       "      <th>temp label</th>\n",
       "      <th>label</th>\n",
       "    </tr>\n",
       "  </thead>\n",
       "  <tbody>\n",
       "    <tr>\n",
       "      <th>0</th>\n",
       "      <td>BCC10 -3</td>\n",
       "      <td>../WSI/bcc/pyramid/data/BCC10 (3)_1a_JS_0_C_0</td>\n",
       "      <td>../WSI/bcc/pyramid/data/BCC10 (3)_1a_JS_0_C_0</td>\n",
       "      <td>1a_JS_0_C_0</td>\n",
       "      <td>0</td>\n",
       "    </tr>\n",
       "    <tr>\n",
       "      <th>1</th>\n",
       "      <td>BCC100 -3</td>\n",
       "      <td>../WSI/bcc/pyramid/data/BCC100 (3)_2_JS_2</td>\n",
       "      <td>../WSI/bcc/pyramid/data/BCC100 (3)_2_JS_2</td>\n",
       "      <td>2_JS_2</td>\n",
       "      <td>3</td>\n",
       "    </tr>\n",
       "    <tr>\n",
       "      <th>2</th>\n",
       "      <td>BCC1 -1</td>\n",
       "      <td>../WSI/bcc/pyramid/data/BCC1 (1)_0_JS_0</td>\n",
       "      <td>../WSI/bcc/pyramid/data/BCC1 (1)_0_JS_0</td>\n",
       "      <td>0_JS_0</td>\n",
       "      <td>0</td>\n",
       "    </tr>\n",
       "    <tr>\n",
       "      <th>3</th>\n",
       "      <td>BCC101 -1</td>\n",
       "      <td>../WSI/bcc/pyramid/data/BCC101 (1)_0_JS_0</td>\n",
       "      <td>../WSI/bcc/pyramid/data/BCC101 (1)_0_JS_0</td>\n",
       "      <td>0_JS_0</td>\n",
       "      <td>0</td>\n",
       "    </tr>\n",
       "    <tr>\n",
       "      <th>4</th>\n",
       "      <td>BCC101 -3</td>\n",
       "      <td>../WSI/bcc/pyramid/data/BCC101 (3)_1a_JS_1a</td>\n",
       "      <td>../WSI/bcc/pyramid/data/BCC101 (3)_1a_JS_1a</td>\n",
       "      <td>1a_JS_1a</td>\n",
       "      <td>2</td>\n",
       "    </tr>\n",
       "    <tr>\n",
       "      <th>...</th>\n",
       "      <td>...</td>\n",
       "      <td>...</td>\n",
       "      <td>...</td>\n",
       "      <td>...</td>\n",
       "      <td>...</td>\n",
       "    </tr>\n",
       "    <tr>\n",
       "      <th>1430</th>\n",
       "      <td>BCC99 -4</td>\n",
       "      <td>../WSI/bcc/pyramid/data/BCC99 (4)_1a_JS_1a</td>\n",
       "      <td>../WSI/bcc/pyramid/data/BCC99 (4)_1a_JS_1a</td>\n",
       "      <td>1a_JS_1a</td>\n",
       "      <td>2</td>\n",
       "    </tr>\n",
       "    <tr>\n",
       "      <th>1431</th>\n",
       "      <td>BCC99 -5</td>\n",
       "      <td>../WSI/bcc/pyramid/data/BCC99 (5)_1a_JS_1a</td>\n",
       "      <td>../WSI/bcc/pyramid/data/BCC99 (5)_1a_JS_1a</td>\n",
       "      <td>1a_JS_1a</td>\n",
       "      <td>2</td>\n",
       "    </tr>\n",
       "    <tr>\n",
       "      <th>1432</th>\n",
       "      <td>BCC99 -6</td>\n",
       "      <td>../WSI/bcc/pyramid/data/BCC99 (6)_1a_JS_1a</td>\n",
       "      <td>../WSI/bcc/pyramid/data/BCC99 (6)_1a_JS_1a</td>\n",
       "      <td>1a_JS_1a</td>\n",
       "      <td>2</td>\n",
       "    </tr>\n",
       "    <tr>\n",
       "      <th>1433</th>\n",
       "      <td>BCC514 -9</td>\n",
       "      <td>../WSI/bcc/pyramid/data/BCC514 (9)_2_JS_3_C_3</td>\n",
       "      <td>../WSI/bcc/pyramid/data/BCC514 (9)_2_JS_3_C_3</td>\n",
       "      <td>2_JS_3_C_3</td>\n",
       "      <td>4</td>\n",
       "    </tr>\n",
       "    <tr>\n",
       "      <th>1434</th>\n",
       "      <td>BCC514 -10</td>\n",
       "      <td>../WSI/bcc/pyramid/data/BCC514 (10)_2_JS_3_C_3</td>\n",
       "      <td>../WSI/bcc/pyramid/data/BCC514 (10)_2_JS_3_C_3</td>\n",
       "      <td>2_JS_3_C_3</td>\n",
       "      <td>4</td>\n",
       "    </tr>\n",
       "  </tbody>\n",
       "</table>\n",
       "<p>1435 rows × 5 columns</p>\n",
       "</div>"
      ],
      "text/plain": [
       "        bcc code                                         address  \\\n",
       "0       BCC10 -3   ../WSI/bcc/pyramid/data/BCC10 (3)_1a_JS_0_C_0   \n",
       "1      BCC100 -3       ../WSI/bcc/pyramid/data/BCC100 (3)_2_JS_2   \n",
       "2        BCC1 -1         ../WSI/bcc/pyramid/data/BCC1 (1)_0_JS_0   \n",
       "3      BCC101 -1       ../WSI/bcc/pyramid/data/BCC101 (1)_0_JS_0   \n",
       "4      BCC101 -3     ../WSI/bcc/pyramid/data/BCC101 (3)_1a_JS_1a   \n",
       "...          ...                                             ...   \n",
       "1430    BCC99 -4      ../WSI/bcc/pyramid/data/BCC99 (4)_1a_JS_1a   \n",
       "1431    BCC99 -5      ../WSI/bcc/pyramid/data/BCC99 (5)_1a_JS_1a   \n",
       "1432    BCC99 -6      ../WSI/bcc/pyramid/data/BCC99 (6)_1a_JS_1a   \n",
       "1433   BCC514 -9   ../WSI/bcc/pyramid/data/BCC514 (9)_2_JS_3_C_3   \n",
       "1434  BCC514 -10  ../WSI/bcc/pyramid/data/BCC514 (10)_2_JS_3_C_3   \n",
       "\n",
       "                                               names   temp label  label  \n",
       "0      ../WSI/bcc/pyramid/data/BCC10 (3)_1a_JS_0_C_0  1a_JS_0_C_0      0  \n",
       "1          ../WSI/bcc/pyramid/data/BCC100 (3)_2_JS_2       2_JS_2      3  \n",
       "2            ../WSI/bcc/pyramid/data/BCC1 (1)_0_JS_0       0_JS_0      0  \n",
       "3          ../WSI/bcc/pyramid/data/BCC101 (1)_0_JS_0       0_JS_0      0  \n",
       "4        ../WSI/bcc/pyramid/data/BCC101 (3)_1a_JS_1a     1a_JS_1a      2  \n",
       "...                                              ...          ...    ...  \n",
       "1430      ../WSI/bcc/pyramid/data/BCC99 (4)_1a_JS_1a     1a_JS_1a      2  \n",
       "1431      ../WSI/bcc/pyramid/data/BCC99 (5)_1a_JS_1a     1a_JS_1a      2  \n",
       "1432      ../WSI/bcc/pyramid/data/BCC99 (6)_1a_JS_1a     1a_JS_1a      2  \n",
       "1433   ../WSI/bcc/pyramid/data/BCC514 (9)_2_JS_3_C_3   2_JS_3_C_3      4  \n",
       "1434  ../WSI/bcc/pyramid/data/BCC514 (10)_2_JS_3_C_3   2_JS_3_C_3      4  \n",
       "\n",
       "[1435 rows x 5 columns]"
      ]
     },
     "execution_count": 2,
     "metadata": {},
     "output_type": "execute_result"
    }
   ],
   "source": [
    "def get_consensus_label (row):\n",
    "    if str(row) not in ['0','1','2','3','4']:\n",
    "        label = row.split('_C_')[-1]\n",
    "    else:\n",
    "        label = row\n",
    "    return label\n",
    "\n",
    "ndpi_files = glob.glob('../WSI/bcc/pyramid/data/*')\n",
    "annotated = file_names_2_df_patient(ndpi_files, split_by='/')\n",
    "annotated"
   ]
  },
  {
   "cell_type": "code",
   "execution_count": 3,
   "id": "04508a95-724b-4228-a3ed-3c7011f361f9",
   "metadata": {},
   "outputs": [
    {
     "data": {
      "text/html": [
       "<div>\n",
       "<style scoped>\n",
       "    .dataframe tbody tr th:only-of-type {\n",
       "        vertical-align: middle;\n",
       "    }\n",
       "\n",
       "    .dataframe tbody tr th {\n",
       "        vertical-align: top;\n",
       "    }\n",
       "\n",
       "    .dataframe thead th {\n",
       "        text-align: right;\n",
       "    }\n",
       "</style>\n",
       "<table border=\"1\" class=\"dataframe\">\n",
       "  <thead>\n",
       "    <tr style=\"text-align: right;\">\n",
       "      <th></th>\n",
       "      <th>index</th>\n",
       "      <th>bcc code</th>\n",
       "      <th>address</th>\n",
       "      <th>names</th>\n",
       "      <th>temp label</th>\n",
       "      <th>label</th>\n",
       "    </tr>\n",
       "  </thead>\n",
       "  <tbody>\n",
       "  </tbody>\n",
       "</table>\n",
       "</div>"
      ],
      "text/plain": [
       "Empty DataFrame\n",
       "Columns: [index, bcc code, address, names, temp label, label]\n",
       "Index: []"
      ]
     },
     "execution_count": 3,
     "metadata": {},
     "output_type": "execute_result"
    }
   ],
   "source": [
    "disagreement = annotated[~annotated['label'].isin([0,1,2,3,4])].reset_index()\n",
    "disagreement"
   ]
  },
  {
   "cell_type": "code",
   "execution_count": 4,
   "id": "4d7ef3f7-d47c-4ccd-882b-400b8ba86d3b",
   "metadata": {},
   "outputs": [
    {
     "data": {
      "text/html": [
       "<div>\n",
       "<style scoped>\n",
       "    .dataframe tbody tr th:only-of-type {\n",
       "        vertical-align: middle;\n",
       "    }\n",
       "\n",
       "    .dataframe tbody tr th {\n",
       "        vertical-align: top;\n",
       "    }\n",
       "\n",
       "    .dataframe thead th {\n",
       "        text-align: right;\n",
       "    }\n",
       "</style>\n",
       "<table border=\"1\" class=\"dataframe\">\n",
       "  <thead>\n",
       "    <tr style=\"text-align: right;\">\n",
       "      <th></th>\n",
       "      <th>index</th>\n",
       "      <th>bcc code</th>\n",
       "      <th>address</th>\n",
       "      <th>names</th>\n",
       "      <th>temp label</th>\n",
       "      <th>label</th>\n",
       "    </tr>\n",
       "  </thead>\n",
       "  <tbody>\n",
       "    <tr>\n",
       "      <th>0</th>\n",
       "      <td>0</td>\n",
       "      <td>BCC10 -3</td>\n",
       "      <td>../WSI/bcc/pyramid/data/BCC10 (3)_1a_JS_0_C_0</td>\n",
       "      <td>../WSI/bcc/pyramid/data/BCC10 (3)_1a_JS_0_C_0</td>\n",
       "      <td>1a_JS_0_C_0</td>\n",
       "      <td>0</td>\n",
       "    </tr>\n",
       "    <tr>\n",
       "      <th>1</th>\n",
       "      <td>1</td>\n",
       "      <td>BCC100 -3</td>\n",
       "      <td>../WSI/bcc/pyramid/data/BCC100 (3)_2_JS_2</td>\n",
       "      <td>../WSI/bcc/pyramid/data/BCC100 (3)_2_JS_2</td>\n",
       "      <td>2_JS_2</td>\n",
       "      <td>3</td>\n",
       "    </tr>\n",
       "    <tr>\n",
       "      <th>2</th>\n",
       "      <td>2</td>\n",
       "      <td>BCC1 -1</td>\n",
       "      <td>../WSI/bcc/pyramid/data/BCC1 (1)_0_JS_0</td>\n",
       "      <td>../WSI/bcc/pyramid/data/BCC1 (1)_0_JS_0</td>\n",
       "      <td>0_JS_0</td>\n",
       "      <td>0</td>\n",
       "    </tr>\n",
       "    <tr>\n",
       "      <th>3</th>\n",
       "      <td>3</td>\n",
       "      <td>BCC101 -1</td>\n",
       "      <td>../WSI/bcc/pyramid/data/BCC101 (1)_0_JS_0</td>\n",
       "      <td>../WSI/bcc/pyramid/data/BCC101 (1)_0_JS_0</td>\n",
       "      <td>0_JS_0</td>\n",
       "      <td>0</td>\n",
       "    </tr>\n",
       "    <tr>\n",
       "      <th>4</th>\n",
       "      <td>4</td>\n",
       "      <td>BCC101 -3</td>\n",
       "      <td>../WSI/bcc/pyramid/data/BCC101 (3)_1a_JS_1a</td>\n",
       "      <td>../WSI/bcc/pyramid/data/BCC101 (3)_1a_JS_1a</td>\n",
       "      <td>1a_JS_1a</td>\n",
       "      <td>2</td>\n",
       "    </tr>\n",
       "    <tr>\n",
       "      <th>...</th>\n",
       "      <td>...</td>\n",
       "      <td>...</td>\n",
       "      <td>...</td>\n",
       "      <td>...</td>\n",
       "      <td>...</td>\n",
       "      <td>...</td>\n",
       "    </tr>\n",
       "    <tr>\n",
       "      <th>1430</th>\n",
       "      <td>1430</td>\n",
       "      <td>BCC99 -4</td>\n",
       "      <td>../WSI/bcc/pyramid/data/BCC99 (4)_1a_JS_1a</td>\n",
       "      <td>../WSI/bcc/pyramid/data/BCC99 (4)_1a_JS_1a</td>\n",
       "      <td>1a_JS_1a</td>\n",
       "      <td>2</td>\n",
       "    </tr>\n",
       "    <tr>\n",
       "      <th>1431</th>\n",
       "      <td>1431</td>\n",
       "      <td>BCC99 -5</td>\n",
       "      <td>../WSI/bcc/pyramid/data/BCC99 (5)_1a_JS_1a</td>\n",
       "      <td>../WSI/bcc/pyramid/data/BCC99 (5)_1a_JS_1a</td>\n",
       "      <td>1a_JS_1a</td>\n",
       "      <td>2</td>\n",
       "    </tr>\n",
       "    <tr>\n",
       "      <th>1432</th>\n",
       "      <td>1432</td>\n",
       "      <td>BCC99 -6</td>\n",
       "      <td>../WSI/bcc/pyramid/data/BCC99 (6)_1a_JS_1a</td>\n",
       "      <td>../WSI/bcc/pyramid/data/BCC99 (6)_1a_JS_1a</td>\n",
       "      <td>1a_JS_1a</td>\n",
       "      <td>2</td>\n",
       "    </tr>\n",
       "    <tr>\n",
       "      <th>1433</th>\n",
       "      <td>1433</td>\n",
       "      <td>BCC514 -9</td>\n",
       "      <td>../WSI/bcc/pyramid/data/BCC514 (9)_2_JS_3_C_3</td>\n",
       "      <td>../WSI/bcc/pyramid/data/BCC514 (9)_2_JS_3_C_3</td>\n",
       "      <td>2_JS_3_C_3</td>\n",
       "      <td>4</td>\n",
       "    </tr>\n",
       "    <tr>\n",
       "      <th>1434</th>\n",
       "      <td>1434</td>\n",
       "      <td>BCC514 -10</td>\n",
       "      <td>../WSI/bcc/pyramid/data/BCC514 (10)_2_JS_3_C_3</td>\n",
       "      <td>../WSI/bcc/pyramid/data/BCC514 (10)_2_JS_3_C_3</td>\n",
       "      <td>2_JS_3_C_3</td>\n",
       "      <td>4</td>\n",
       "    </tr>\n",
       "  </tbody>\n",
       "</table>\n",
       "<p>1435 rows × 6 columns</p>\n",
       "</div>"
      ],
      "text/plain": [
       "      index    bcc code                                         address  \\\n",
       "0         0    BCC10 -3   ../WSI/bcc/pyramid/data/BCC10 (3)_1a_JS_0_C_0   \n",
       "1         1   BCC100 -3       ../WSI/bcc/pyramid/data/BCC100 (3)_2_JS_2   \n",
       "2         2     BCC1 -1         ../WSI/bcc/pyramid/data/BCC1 (1)_0_JS_0   \n",
       "3         3   BCC101 -1       ../WSI/bcc/pyramid/data/BCC101 (1)_0_JS_0   \n",
       "4         4   BCC101 -3     ../WSI/bcc/pyramid/data/BCC101 (3)_1a_JS_1a   \n",
       "...     ...         ...                                             ...   \n",
       "1430   1430    BCC99 -4      ../WSI/bcc/pyramid/data/BCC99 (4)_1a_JS_1a   \n",
       "1431   1431    BCC99 -5      ../WSI/bcc/pyramid/data/BCC99 (5)_1a_JS_1a   \n",
       "1432   1432    BCC99 -6      ../WSI/bcc/pyramid/data/BCC99 (6)_1a_JS_1a   \n",
       "1433   1433   BCC514 -9   ../WSI/bcc/pyramid/data/BCC514 (9)_2_JS_3_C_3   \n",
       "1434   1434  BCC514 -10  ../WSI/bcc/pyramid/data/BCC514 (10)_2_JS_3_C_3   \n",
       "\n",
       "                                               names   temp label  label  \n",
       "0      ../WSI/bcc/pyramid/data/BCC10 (3)_1a_JS_0_C_0  1a_JS_0_C_0      0  \n",
       "1          ../WSI/bcc/pyramid/data/BCC100 (3)_2_JS_2       2_JS_2      3  \n",
       "2            ../WSI/bcc/pyramid/data/BCC1 (1)_0_JS_0       0_JS_0      0  \n",
       "3          ../WSI/bcc/pyramid/data/BCC101 (1)_0_JS_0       0_JS_0      0  \n",
       "4        ../WSI/bcc/pyramid/data/BCC101 (3)_1a_JS_1a     1a_JS_1a      2  \n",
       "...                                              ...          ...    ...  \n",
       "1430      ../WSI/bcc/pyramid/data/BCC99 (4)_1a_JS_1a     1a_JS_1a      2  \n",
       "1431      ../WSI/bcc/pyramid/data/BCC99 (5)_1a_JS_1a     1a_JS_1a      2  \n",
       "1432      ../WSI/bcc/pyramid/data/BCC99 (6)_1a_JS_1a     1a_JS_1a      2  \n",
       "1433   ../WSI/bcc/pyramid/data/BCC514 (9)_2_JS_3_C_3   2_JS_3_C_3      4  \n",
       "1434  ../WSI/bcc/pyramid/data/BCC514 (10)_2_JS_3_C_3   2_JS_3_C_3      4  \n",
       "\n",
       "[1435 rows x 6 columns]"
      ]
     },
     "execution_count": 4,
     "metadata": {},
     "output_type": "execute_result"
    }
   ],
   "source": [
    "annotated = annotated[annotated['label'].isin([0,1,2,3,4])].reset_index()\n",
    "annotated"
   ]
  },
  {
   "cell_type": "markdown",
   "id": "1d69603f-2d3b-4861-be89-06853ad68bdd",
   "metadata": {
    "tags": []
   },
   "source": [
    "# Split train, validation and test"
   ]
  },
  {
   "cell_type": "code",
   "execution_count": 5,
   "id": "b890be7a-4237-47b0-8537-f67cb2ad08ad",
   "metadata": {},
   "outputs": [],
   "source": [
    "bcc_annotation = annotated.copy()\n",
    "wsi_label_patient_id = annotated.copy()"
   ]
  },
  {
   "cell_type": "code",
   "execution_count": 6,
   "id": "8a7d4437-5328-4672-a0cb-d1182fd9e8e8",
   "metadata": {},
   "outputs": [],
   "source": [
    "bcc_codes = list(bcc_annotation['bcc code'])\n",
    "bcc_codes = list(bcc_annotation.loc[0, ['bcc code']])\n",
    "patient_id = list(set([bcc for bcc_code in bcc_codes for bcc in re.findall('^BCC\\d+', bcc_code) if len(bcc)!=0]))"
   ]
  },
  {
   "cell_type": "code",
   "execution_count": 7,
   "id": "1be14e09-16d5-412a-bcd2-ea5b5bfdd433",
   "metadata": {},
   "outputs": [],
   "source": [
    "def get_id(bcc_codes):\n",
    "    patient_id = list(set([bcc for bcc_code in bcc_codes for bcc in re.findall('^BCC\\d+', bcc_code) if len(bcc)!=0]))\n",
    "    return patient_id[0]"
   ]
  },
  {
   "cell_type": "code",
   "execution_count": 8,
   "id": "9359edc0-c49d-4adb-a9d7-1fee76f7d6bd",
   "metadata": {},
   "outputs": [],
   "source": [
    "def ndpi_2_files(ndpi):\n",
    "    return ndpi[0].replace('.ndpi', '_files/20.0')"
   ]
  },
  {
   "cell_type": "code",
   "execution_count": 9,
   "id": "2f9adb48-4a52-43b2-846f-b498d0497643",
   "metadata": {},
   "outputs": [],
   "source": [
    "def include_patients():\n",
    "    return [file.split('/')[-1]+'/20.0' for file in glob.glob('/workspace/data/cv_methods/tmi2022/graphs/simclr_files/*')]"
   ]
  },
  {
   "cell_type": "code",
   "execution_count": 10,
   "id": "72640ceb-d2e7-49b4-b14e-c451b62df1e3",
   "metadata": {},
   "outputs": [],
   "source": [
    "def include_patients_2():\n",
    "    return [file.split('/')[-1] for file in glob.glob('/workspace/data/bcc-projekt-digital/bcc/*/*')]"
   ]
  },
  {
   "cell_type": "code",
   "execution_count": 11,
   "id": "ce4194e8-9e95-413e-a55d-796cde86b16e",
   "metadata": {},
   "outputs": [],
   "source": [
    "wsi_label_patient_id['patient id']   = wsi_label_patient_id['bcc code'].apply(lambda x: get_id([x]))\n",
    "wsi_label_patient_id['tiles folder'] = wsi_label_patient_id['names'].apply(lambda x: ndpi_2_files([x]))\n",
    "patient_id = list(set(list(wsi_label_patient_id['patient id'])))"
   ]
  },
  {
   "cell_type": "code",
   "execution_count": 12,
   "id": "1c967d09-a4e8-46a1-8e0a-4a407fae5d79",
   "metadata": {},
   "outputs": [],
   "source": [
    "#Xy = wsi_label_patient_id.loc[wsi_label_patient_id['patient id'].isin(patient_id),:][['tiles folder', 'label']]\n",
    "#Xy.rename(columns = {'tiles folder':'X','label':'y'})"
   ]
  },
  {
   "cell_type": "markdown",
   "id": "2de8b38c-3dc1-4765-821c-7fbcdee32b91",
   "metadata": {},
   "source": [
    "## Split patients "
   ]
  },
  {
   "cell_type": "code",
   "execution_count": 14,
   "id": "31f5b60e-5fe8-4244-b76b-a38e14addaff",
   "metadata": {
    "tags": []
   },
   "outputs": [],
   "source": [
    "def split_patients(bcc_annotation):\n",
    "    bcc_codes = list(bcc_annotation['bcc code'])\n",
    "    patient_id = list(set([bcc for bcc_code in bcc_codes for bcc in re.findall('^BCC\\d+', bcc_code) if len(bcc)!=0]))\n",
    "    X_train, X_test = model_selection.train_test_split(pd.DataFrame(patient_id), test_size=0.1, random_state=2023)\n",
    "    return X_train, X_test\n",
    "\n",
    "def get_patient_ids(bcc_annotation):\n",
    "    bcc_codes = list(bcc_annotation['bcc code'])\n",
    "    return list(set([bcc for bcc_code in bcc_codes for bcc in re.findall('^BCC\\d+', bcc_code) if len(bcc)!=0]))\n",
    "    \n",
    "def get_file_names_patient(bcc_code):\n",
    "    bcc_files = []\n",
    "    for file in glob.glob('/workspace/data/bcc-projekt-digital/bcc/*/*'):\n",
    "        bcc_files.append(file.split('/')[-1])\n",
    "        \n",
    "    bcc_set=[]\n",
    "    for file in tqdm(bcc_files):\n",
    "        for xt in list(bcc_code['names']):\n",
    "            if len(re.findall(f'^{xt}', file)): \n",
    "                bcc_set.append(file)\n",
    "    return bcc_set\n",
    "\n",
    "\n",
    "def split_grades(wsi_label_patient_id, patient_ids, file_save_name, grades=2):\n",
    "    Xy = wsi_label_patient_id.loc[wsi_label_patient_id['patient id'].isin(patient_ids),:][['tiles folder', 'label']]\n",
    "    Xy.rename(columns = {'tiles folder':'X','label':'y'}, inplace=True)\n",
    "    Xy = Xy[Xy['y'].notna()]\n",
    "    Xy.to_csv('Xy.csv')  \n",
    "    X = Xy['X']\n",
    "    y = Xy['y'].astype(int)\n",
    "    \n",
    "    if grades==1:\n",
    "        y_ = [1 if yt!=0 else 0 for yt in list(y)]\n",
    "    elif grades==2:\n",
    "        y_  = []\n",
    "        for yt in list(y):\n",
    "            if yt==0:\n",
    "                y_.append(0)\n",
    "            elif yt==1 or yt==2:\n",
    "                y_.append(1)\n",
    "            elif yt==3 or yt==4:\n",
    "                y_.append(2)\n",
    "    else:\n",
    "        y_ = y\n",
    "        \n",
    "    data_set = pd.DataFrame()\n",
    "    #val_set = pd.DataFrame()\n",
    "    data_set['X'] = X\n",
    "    data_set['y'] = y_\n",
    "    #val_set['X']   = X_test\n",
    "    #val_set['y']   = y_test_\n",
    "\n",
    "    graph_trans_script_path = '../scripts/'\n",
    "\n",
    "    # Uncomment the line below if you would like to generate new data set\n",
    "    \n",
    "    #data_set.to_csv(graph_trans_script_path + f'{file_save_name}', sep='\\t', index=False, header=False)\n",
    "    \n",
    "    return data_set"
   ]
  },
  {
   "cell_type": "code",
   "execution_count": 15,
   "id": "0f875363-b293-42a6-add9-8b969d41c48c",
   "metadata": {
    "tags": []
   },
   "outputs": [],
   "source": [
    "np.random.seed(2022) # appeaes to have no effect. To do list: move .py file.  \n",
    "kf = KFold(5, shuffle=False) \n",
    "strat_y_train = []\n",
    "strat_y_val   = []\n",
    "grades = 4\n",
    "for i,(train_index, val_index) in enumerate(kf.split(patient_id)):\n",
    "    X_train_code = np.array(patient_id)[train_index]\n",
    "    X_val_code = np.array(patient_id)[val_index]\n",
    "    t_set = split_grades  (wsi_label_patient_id, X_train_code, file_save_name=f'train_set_{grades+1}C_{i}F.txt', grades=grades)\n",
    "    val_set = split_grades(wsi_label_patient_id, X_val_code,   file_save_name=f'val_set_{grades+1}C_{i}F.txt',  grades=grades)\n",
    "    #print(t_set['y'].value_counts(), val_set['y'].value_counts())\n",
    "    strat_y_train.append(dict(t_set['y'].value_counts()))\n",
    "    strat_y_val.append(dict(val_set['y'].value_counts()))"
   ]
  },
  {
   "cell_type": "code",
   "execution_count": 47,
   "id": "b98745f4-d575-4ff0-8466-5fff93d3d71b",
   "metadata": {},
   "outputs": [],
   "source": [
    "def five_classes_to_23_classes(classes=2, fold=0,train_val='train'):\n",
    "    def five_to_three(yt):\n",
    "        if yt==0:\n",
    "            y_= 0\n",
    "        elif yt==1 or yt==2:\n",
    "            y_= 1\n",
    "        elif yt==3 or yt==4:\n",
    "            y_ = 2\n",
    "        return y_\n",
    "\n",
    "    if train_val == 'test':\n",
    "        path_train = f'../scripts/test_set_5C_0F.txt'\n",
    "    else:\n",
    "        path_train = f'../scripts/{train_val}_set_5C_{fold}F.txt'\n",
    "    \n",
    "    train_df = pd.read_csv(path_train, delimiter='\\t', header=None)\n",
    "    train_df.columns= ['file_name', 'label']\n",
    "    if classes==2:\n",
    "        train_df['label'] = train_df.label.apply(lambda row: row if row==0 else 1)\n",
    "    elif classes==3:\n",
    "         train_df['label'] = train_df.label.apply(lambda row: five_to_three(row))\n",
    "    \n",
    "    train_df.to_csv(f'../scripts/{train_val}_set_{classes}C_{fold}F.txt', \n",
    "                    sep='\\t',\n",
    "                    header=None,\n",
    "                    index=False)"
   ]
  },
  {
   "cell_type": "code",
   "execution_count": 48,
   "id": "76d1839d-a07c-4dfd-ae1d-9da47c2f5240",
   "metadata": {},
   "outputs": [],
   "source": [
    "# uncomment this if you would like to see new results\n",
    "classes = 3 # change to 2 or 3\n",
    "for f in range(5):   \n",
    "    five_classes_to_23_classes(classes=classes, fold=f, train_val='train')\n",
    "    five_classes_to_23_classes(classes=classes, fold=f, train_val='val')"
   ]
  },
  {
   "cell_type": "markdown",
   "id": "eed31cd1-2bec-430a-ab7e-9c5aedd66aa2",
   "metadata": {},
   "source": [
    "# Create test set"
   ]
  },
  {
   "cell_type": "code",
   "execution_count": 49,
   "id": "e09a3fef-8aeb-4dfd-81bf-da2be0a31126",
   "metadata": {},
   "outputs": [],
   "source": [
    "def create_test_set_list():\n",
    "    bcc_annotations_test = pd.read_excel('bcc_annotations_test.xlsx')    # exttracted from P: drive\n",
    "    test_set = test_set = pd.DataFrame(glob.glob('../WSI_test_set/bcc/pyramid/data/*'))\n",
    "    test_set_list = pd.DataFrame()\n",
    "    test_set_list[0] = test_set[0].apply(lambda row: row.split('/')[-1])\n",
    "    test_set_list[1] = test_set[0]\n",
    "    test_set_list[0].apply(lambda row: row.replace('(','-').replace(')',''))\n",
    "    unannotated_test_set = pd.DataFrame()\n",
    "    unannotated_test_set['bcc code'] = test_set_list[0].apply(lambda row: row.replace('(','-').replace(')',''))\n",
    "    unannotated_test_set['addresss'] = test_set_list[1]\n",
    "\n",
    "    bcc_annotations_test = pd.read_excel('bcc_annotations_test.xlsx')\n",
    "    bcc_annotations_test.drop(columns = ['address'], inplace=True)\n",
    "    \n",
    "    df_merged = pd.merge(bcc_annotations_test, unannotated_test_set, on='bcc code')\n",
    "    # uncomment this to genenrate new set\n",
    "    #df_merged[['addresss', 'label']].to_csv('/workspace/data/cv_methods/tmi2022/scripts/test_set_5C_0F.txt', header=None, index=False, sep='\\t')\n",
    "    \n",
    "   \n",
    "    five_classes_to_23_classes(classes=2, fold=0, train_val='test')\n",
    "    five_classes_to_23_classes(classes=3, fold=0, train_val='test')\n",
    "    \n",
    "create_test_set_list()"
   ]
  },
  {
   "cell_type": "markdown",
   "id": "4f208ee7-c6e0-466f-b729-97c779ce53aa",
   "metadata": {},
   "source": [
    "### Read train and val sets for stats"
   ]
  },
  {
   "cell_type": "code",
   "execution_count": 18,
   "id": "1a5a5105-b977-4bac-8c84-b9727fb0c986",
   "metadata": {},
   "outputs": [],
   "source": [
    "classes = 5\n",
    "strat_y_train = []\n",
    "strat_y_val   = []\n",
    "strat_y_test   = []\n",
    "folds = 5\n",
    "for f in range(folds):\n",
    "    strat_y_train.append(dict(pd.read_csv(f'../scripts/train_set_{classes}C_{f}F.txt', sep='\\t', header=None).iloc[:,-1].value_counts()))\n",
    "    strat_y_val.append(dict(pd.read_csv(f'../scripts/val_set_{classes}C_{f}F.txt', sep='\\t', header=None).iloc[:,-1].value_counts()))\n",
    "    strat_y_test.append(dict(pd.read_csv(f'../scripts/val_set_{classes}C_0F.txt', sep='\\t', header=None).iloc[:,-1].value_counts()))"
   ]
  },
  {
   "cell_type": "code",
   "execution_count": 19,
   "id": "f4548e83-d758-4d55-9bb1-c19b626f0620",
   "metadata": {},
   "outputs": [
    {
     "name": "stdout",
     "output_type": "stream",
     "text": [
      "Mean training of class 0:   475.2 +- 12.4\n",
      "Mean validation of class 0: 118.8 +- 12.4\n",
      "Mean test of class 0:       119.0 +- 0.0\n",
      "\n",
      "Mean training of class 1:   140.8 +- 7.2\n",
      "Mean validation of class 1: 35.2 +- 7.2\n",
      "Mean test of class 1:       39.0 +- 0.0\n",
      "\n",
      "Mean training of class 2:   181.6 +- 2.7\n",
      "Mean validation of class 2: 45.4 +- 2.7\n",
      "Mean test of class 2:       48.0 +- 0.0\n",
      "\n",
      "Mean training of class 3:   170.4 +- 7.2\n",
      "Mean validation of class 3: 42.6 +- 7.2\n",
      "Mean test of class 3:       31.0 +- 0.0\n",
      "\n",
      "Mean training of class 4:   180.0 +- 5.3\n",
      "Mean validation of class 4: 45.0 +- 5.3\n",
      "Mean test of class 4:       49.0 +- 0.0\n",
      "\n"
     ]
    }
   ],
   "source": [
    "for c in range(classes):\n",
    "    train_ys = []\n",
    "    val_ys   = []\n",
    "    test_ys  = []\n",
    "    \n",
    "    for f in range(folds):\n",
    "        train_ys.append(strat_y_train[f][c])\n",
    "        val_ys.append(strat_y_val[f][c])\n",
    "        test_ys.append(strat_y_test[f][c])\n",
    "    \n",
    "    mean_train = np.mean(np.array(train_ys))\n",
    "    mean_val =   np.mean(np.array(val_ys))\n",
    "    mean_test =   np.mean(np.array(test_ys))\n",
    "    \n",
    "    std_train = np.std(np.array(train_ys))\n",
    "    std_val = np.std(np.array(val_ys))\n",
    "    std_test = np.std(np.array(test_ys))\n",
    "    \n",
    "\n",
    "    print (f'Mean training of class {c}:   {round(mean_train,1)} +- {round(std_train,1)}')\n",
    "    print (f'Mean validation of class {c}: {round(mean_val,1)} +- {round(std_val,1)}')\n",
    "    print (f'Mean test of class {c}:       {round(mean_test,1)} +- {round(std_test,1)}')\n",
    "    print()"
   ]
  },
  {
   "cell_type": "markdown",
   "id": "8747b7a9-1a26-4e72-a493-ac9c50e1c5ef",
   "metadata": {},
   "source": [
    "### Number of WSI per fold (training)"
   ]
  },
  {
   "cell_type": "code",
   "execution_count": 179,
   "id": "21bcad5e-f2ea-41db-bfcf-764c843cc669",
   "metadata": {},
   "outputs": [
    {
     "data": {
      "text/plain": [
       "<Figure size 576x360 with 0 Axes>"
      ]
     },
     "metadata": {},
     "output_type": "display_data"
    },
    {
     "data": {
      "image/png": "[encoded data removed]",
      "text/plain": [
       "<Figure size 576x360 with 1 Axes>"
      ]
     },
     "metadata": {
      "needs_background": "light"
     },
     "output_type": "display_data"
    }
   ],
   "source": [
    "plt.figure(figsize=(8,5))\n",
    "pd.DataFrame(strat_y_train).plot.bar(figsize=(8,5))\n",
    "plt.xlabel('Fold #')\n",
    "plt.ylabel('WSIs')\n",
    "plt.title(f'Training set, {len(strat_y_val[0])}-class')\n",
    "plt.savefig(f'figures/split_stat_{len(strat_y_val[0])}_training.png', bbox_inches='tight',pad_inches=0)"
   ]
  },
  {
   "cell_type": "markdown",
   "id": "8e8d319c-7e2c-4dd7-8527-fde275c196d0",
   "metadata": {},
   "source": [
    "### Number of WSI per fold (validation)"
   ]
  },
  {
   "cell_type": "code",
   "execution_count": 178,
   "id": "5eba4362-86e4-489a-b816-39f3b2ea374b",
   "metadata": {},
   "outputs": [
    {
     "data": {
      "image/png": "[encoded data removed]",
      "text/plain": [
       "<Figure size 576x360 with 1 Axes>"
      ]
     },
     "metadata": {
      "needs_background": "light"
     },
     "output_type": "display_data"
    }
   ],
   "source": [
    "pd.DataFrame(strat_y_val).plot.bar(figsize=(8,5))\n",
    "plt.xlabel('Fold #')\n",
    "plt.ylabel('WSIs')\n",
    "plt.title(f'Validation set, {len(strat_y_val[0])}-class')\n",
    "plt.savefig(f'figures/split_stat_{len(strat_y_val[0])}_test.png',\n",
    "            bbox_inches='tight',\n",
    "            pad_inches=0)"
   ]
  },
  {
   "cell_type": "markdown",
   "id": "38b847d2-20f2-4ca5-b508-563efcbe72f2",
   "metadata": {},
   "source": [
    "### Dataset stat in figures"
   ]
  },
  {
   "cell_type": "code",
   "execution_count": 231,
   "id": "daa9054c-7ca3-4ce3-9a01-6efff379e529",
   "metadata": {},
   "outputs": [
    {
     "name": "stdout",
     "output_type": "stream",
     "text": [
      "Number of patients in training set: 369\n"
     ]
    }
   ],
   "source": [
    "patient_ids = list(set(list(wsi_label_patient_id['patient id'])))\n",
    "print('Number of patients in training set:', len(patient_ids))"
   ]
  },
  {
   "cell_type": "code",
   "execution_count": 230,
   "id": "02c46291-a2c4-417c-9dda-dff79c4fbc60",
   "metadata": {},
   "outputs": [
    {
     "data": {
      "text/plain": [
       "110"
      ]
     },
     "execution_count": 230,
     "metadata": {},
     "output_type": "execute_result"
    }
   ],
   "source": [
    "num_test_set = len(list(set([bcc.split(' ')[0] for bcc in list(pd.read_excel('bcc_annotations_test.xlsx')['bcc code'])])))\n",
    "num_test_set"
   ]
  },
  {
   "cell_type": "code",
   "execution_count": 229,
   "id": "ce1b8659-bf40-4c61-8537-99819060c40d",
   "metadata": {},
   "outputs": [
    {
     "name": "stdout",
     "output_type": "stream",
     "text": [
      "Total number patients: 479\n"
     ]
    }
   ],
   "source": [
    "print('Total number patients:', len(patient_ids) + num_test_set )"
   ]
  },
  {
   "cell_type": "code",
   "execution_count": 24,
   "id": "5ea57cbd-9233-4771-a9ec-7a26f8fd9077",
   "metadata": {},
   "outputs": [],
   "source": [
    "def num_patient_labels(patient_ids):\n",
    "    num_labels = {}\n",
    "    for i, bcc in enumerate(patient_ids):\n",
    "        num_labels[bcc]=len(wsi_label_patient_id.loc[wsi_label_patient_id['patient id']==patient_ids[i]]['temp label'].unique())\n",
    "    nl = list(set(num_labels.values()))\n",
    "    nl_all = list(num_labels.values())\n",
    "    plt.figure(figsize=(8,5))\n",
    "    plt.bar(nl, [nl_all.count(i) for i in nl])\n",
    "    plt.xticks(nl)\n",
    "    plt.xlabel('Number of labels per patient')\n",
    "    plt.ylabel('Patients')\n",
    "    plt.savefig('figures/label_per_patient.png', bbox_inches='tight',pad_inches=0)"
   ]
  },
  {
   "cell_type": "code",
   "execution_count": 25,
   "id": "675317e1-e7bf-4328-8db1-1fadf7550ab3",
   "metadata": {},
   "outputs": [],
   "source": [
    "def num_slides_patient(patient_ids):\n",
    "    num_slides = {}\n",
    "    for i, bcc in enumerate(patient_ids):\n",
    "        num_slides[bcc]=len(wsi_label_patient_id.loc[wsi_label_patient_id['patient id']==patient_ids[i]])\n",
    "        \n",
    "    ns = list(set(num_slides.values()))\n",
    "    ns_all = list(num_slides.values())\n",
    "    plt.figure(figsize=(8,5))\n",
    "    plt.bar(ns, [ns_all.count(i) for i in ns])\n",
    "    plt.xticks(ns)\n",
    "    plt.xlabel('WSIs per patient')\n",
    "    plt.ylabel('Patients')\n",
    "    plt.savefig('figures/wsi_per_patient.png', bbox_inches='tight',pad_inches=0)"
   ]
  },
  {
   "cell_type": "code",
   "execution_count": 26,
   "id": "1d1955b8-1a11-4b90-985c-2a17386a4729",
   "metadata": {},
   "outputs": [],
   "source": [
    "def patient_label(patient_ids):\n",
    "    patient_labels = {}\n",
    "    for i, bcc in enumerate(patient_ids):\n",
    "        all_labels = list(wsi_label_patient_id.loc[wsi_label_patient_id['patient id']==patient_ids[i]]['label'])\n",
    "        patient_labels[bcc]= max(all_labels)\n",
    "    ns = list(patient_labels.values())\n",
    "    ns_all = list(patient_labels.values())\n",
    "    plt.figure(figsize=(8,5))\n",
    "    plt.bar(ns, [ns_all.count(i) for i in ns])\n",
    "    plt.xticks(ns)\n",
    "    plt.xlabel('Labels')\n",
    "    plt.ylabel('Patients')\n",
    "    plt.savefig('figures/patient_labels.png')"
   ]
  },
  {
   "cell_type": "code",
   "execution_count": 174,
   "id": "5b23d0fc-2621-46d0-94b3-0b963f8897eb",
   "metadata": {},
   "outputs": [],
   "source": [
    "test_set_annotated = pd.read_csv(f'../scripts/test_set_5C_0F.txt', header=None, sep='\\t')"
   ]
  },
  {
   "cell_type": "code",
   "execution_count": 176,
   "id": "b751ecfc-1a26-4ce4-8e55-5e2684026af7",
   "metadata": {},
   "outputs": [
    {
     "data": {
      "image/png": "[encoded data removed]",
      "text/plain": [
       "<Figure size 432x288 with 1 Axes>"
      ]
     },
     "metadata": {
      "needs_background": "light"
     },
     "output_type": "display_data"
    }
   ],
   "source": [
    "fig = plt.figure()\n",
    "annotated['label'].value_counts().plot(kind='bar', xlabel='Label', ylabel='Number of WSI')\n",
    "total_annotated = len(ndpi_files) - annotated['label'].isna().sum()\n",
    "plt.legend([f'Total: {total_annotated}'])\n",
    "plt.savefig('annoation_stat.jpg')"
   ]
  },
  {
   "cell_type": "code",
   "execution_count": 177,
   "id": "8cd11f9c-beee-4fa5-8f08-29a5b6736344",
   "metadata": {},
   "outputs": [
    {
     "data": {
      "image/png": "[encoded data removed]",
      "text/plain": [
       "<Figure size 576x360 with 1 Axes>"
      ]
     },
     "metadata": {
      "needs_background": "light"
     },
     "output_type": "display_data"
    }
   ],
   "source": [
    "train_test = {}\n",
    "for i in range(5):\n",
    "    train_test[i] = [annotated['label'].value_counts()[i],test_set_annotated[1].value_counts()[i]]\n",
    "pd.DataFrame(train_test).T.plot.bar(figsize=(8,5))\n",
    "plt.legend([f'Total: {total_annotated}'])\n",
    "plt.savefig('annoation_stat.jpg')"
   ]
  },
  {
   "cell_type": "code",
   "execution_count": 28,
   "id": "9da754b3-17b4-4287-a03c-85196f10e75c",
   "metadata": {},
   "outputs": [
    {
     "data": {
      "image/png": "[encoded data removed]",
      "text/plain": [
       "<Figure size 576x360 with 1 Axes>"
      ]
     },
     "metadata": {
      "needs_background": "light"
     },
     "output_type": "display_data"
    }
   ],
   "source": [
    "num_patient_labels(patient_ids)"
   ]
  },
  {
   "cell_type": "code",
   "execution_count": 29,
   "id": "91056c39-b96f-4097-9579-287c8c4bcd81",
   "metadata": {},
   "outputs": [
    {
     "data": {
      "image/png": "[encoded data removed]",
      "text/plain": [
       "<Figure size 576x360 with 1 Axes>"
      ]
     },
     "metadata": {
      "needs_background": "light"
     },
     "output_type": "display_data"
    }
   ],
   "source": [
    " num_slides_patient(patient_ids)"
   ]
  },
  {
   "cell_type": "code",
   "execution_count": 30,
   "id": "cee21570-0888-4944-8878-76a89629b04b",
   "metadata": {},
   "outputs": [
    {
     "data": {
      "image/png": "[encoded data removed]",
      "text/plain": [
       "<Figure size 576x360 with 1 Axes>"
      ]
     },
     "metadata": {
      "needs_background": "light"
     },
     "output_type": "display_data"
    }
   ],
   "source": [
    "patient_label(patient_ids)"
   ]
  },
  {
   "cell_type": "markdown",
   "id": "1a0f33d7-aaa2-4a67-a621-0553085aab11",
   "metadata": {},
   "source": [
    "# WSI stats"
   ]
  },
  {
   "cell_type": "code",
   "execution_count": 31,
   "id": "e87dd064-ed0f-43e4-92b6-a7188a2685f4",
   "metadata": {},
   "outputs": [],
   "source": [
    "# Takes time\n",
    "\n",
    "#WSI_low = len(glob.glob('/workspace/data/cv_methods/tmi2022/WSI/bcc/pyramid/data/*/*.jpeg'))\n",
    "#WSI_high = len(glob.glob('/workspace/data/cv_methods/tmi2022/WSI/bcc/pyramid/data/*/*/*.jpeg'))"
   ]
  },
  {
   "cell_type": "code",
   "execution_count": 21,
   "id": "eb683334-36f1-4581-b951-5b93ffbf1d64",
   "metadata": {},
   "outputs": [],
   "source": [
    "#WSI_low, WSI_high, WSI_low + WSI_high"
   ]
  },
  {
   "cell_type": "code",
   "execution_count": 43,
   "id": "17743c9b-7a41-49af-997f-8fe545f68f0f",
   "metadata": {},
   "outputs": [
    {
     "name": "stdout",
     "output_type": "stream",
     "text": [
      "Number of patches at low mag: min: 26 max: 7825 mean: 2021.145048814505\n"
     ]
    }
   ],
   "source": [
    "folder_len = []\n",
    "for folder in (glob.glob('../WSI/bcc/pyramid/data/*')):\n",
    "    f_len = len(glob.glob(folder+'/*'))\n",
    "    if f_len:\n",
    "        folder_len.append(len(glob.glob(folder+'/*')))\n",
    "print('Number of patches at low mag:', 'min:', min(folder_len), 'max:', max(folder_len), 'mean:', np.mean(np.array(folder_len)))"
   ]
  },
  {
   "cell_type": "code",
   "execution_count": 44,
   "id": "4a6e35e9-40ef-4eac-9fcc-0ff33c9324bb",
   "metadata": {},
   "outputs": [
    {
     "data": {
      "text/plain": [
       "(array([515., 128., 189., 220., 181., 112.,  61.,  18.,   8.,   2.]),\n",
       " array([  26. ,  805.9, 1585.8, 2365.7, 3145.6, 3925.5, 4705.4, 5485.3,\n",
       "        6265.2, 7045.1, 7825. ]),\n",
       " <BarContainer object of 10 artists>)"
      ]
     },
     "execution_count": 44,
     "metadata": {},
     "output_type": "execute_result"
    },
    {
     "data": {
      "image/png": "[encoded data removed]",
      "text/plain": [
       "<Figure size 432x288 with 1 Axes>"
      ]
     },
     "metadata": {
      "needs_background": "light"
     },
     "output_type": "display_data"
    }
   ],
   "source": [
    "import matplotlib.pyplot as plt\n",
    "plt.hist(folder_len)"
   ]
  },
  {
   "cell_type": "code",
   "execution_count": null,
   "id": "37629246-f297-4409-b2ec-991b1fda0d3f",
   "metadata": {},
   "outputs": [],
   "source": []
  }
 ],
 "metadata": {
  "kernelspec": {
   "display_name": "Python 3 (ipykernel)",
   "language": "python",
   "name": "python3"
  },
  "language_info": {
   "codemirror_mode": {
    "name": "ipython",
    "version": 3
   },
   "file_extension": ".py",
   "mimetype": "text/x-python",
   "name": "python",
   "nbconvert_exporter": "python",
   "pygments_lexer": "ipython3",
   "version": "3.8.13"
  }
 },
 "nbformat": 4,
 "nbformat_minor": 5
}
