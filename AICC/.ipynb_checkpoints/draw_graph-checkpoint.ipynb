{
 "cells": [
  {
   "cell_type": "markdown",
   "id": "8386cec7-ff50-4949-957b-6cf207bc9df2",
   "metadata": {},
   "source": [
    "# Draw graph"
   ]
  },
  {
   "cell_type": "code",
   "execution_count": null,
   "id": "11487ee6-fad9-4d53-b006-3223a49ce8ba",
   "metadata": {},
   "outputs": [],
   "source": [
    "import os\n",
    "import glob\n",
    "import torch\n",
    "import numpy as np\n",
    "import pandas as pd\n",
    "import networkx as nx\n",
    "import matplotlib.pyplot as plt\n",
    "from torch_geometric import utils\n",
    "from torch_geometric.data import Data"
   ]
  },
  {
   "cell_type": "code",
   "execution_count": null,
   "id": "c00cab87-37ab-41a7-9bcb-d598b3495b4e",
   "metadata": {},
   "outputs": [],
   "source": [
    "def draw_G(G):\n",
    "    k = tuple(np.random.choice(256,(8,3))/255)\n",
    "    color_map = []\n",
    "    for node in G:\n",
    "        if node in list(nx.connected_components(G))[0]:\n",
    "            color_map.append(k[0])\n",
    "        elif node in list(nx.connected_components(G))[1]:\n",
    "            color_map.append(k[1])\n",
    "        elif node in list(nx.connected_components(G))[2]:\n",
    "            color_map.append(k[2])\n",
    "        elif node in list(nx.connected_components(G))[3]:\n",
    "            color_map.append(k[3])\n",
    "        elif node in list(nx.connected_components(G))[4]:\n",
    "            color_map.append(k[4])\n",
    "        elif node in list(nx.connected_components(G))[5]:\n",
    "            color_map.append(k[5])\n",
    "        else: \n",
    "            color_map.append('g')      \n",
    "    plt.figure(figsize=(15, 15))\n",
    "\n",
    "    nx.draw_networkx(G, with_labels=False, node_color=color_map, node_size=100, arrows=False, alpha=0.5)\n",
    "    plt.axis('tight')\n",
    "\n",
    "    plt.savefig('figures/BCC1_G.png',bbox_inches='tight', transparent=\"True\", pad_inches=0)\n",
    "    plt.show()"
   ]
  },
  {
   "cell_type": "code",
   "execution_count": null,
   "id": "d753edab-3ce4-4d98-8b0d-16f6cbe93bc0",
   "metadata": {},
   "outputs": [],
   "source": [
    "def draw_tiles(path,nrows=104, ncols=48):\n",
    "    fig, ax = plt.subplots(nrows=nrows, ncols=ncols, figsize=(10, 15))\n",
    "    path = '/workspace/data/cv_methods/dsmil-wsi/WSI/bcc/pyramid/1/BCC1 (2)_1a_1b/'\n",
    "    for i, row in enumerate(ax):\n",
    "        for j, col in enumerate(row):\n",
    "            if f'{i}_{j}.jpeg' in jpgs_file_names:\n",
    "                col.imshow(plt.imread(path + f'{i}_{j}.jpeg'))\n",
    "            else:\n",
    "                col.imshow(np.zeros((224, 224, 3)) + 0.97)\n",
    "                \n",
    "            col.yaxis.set_visible(False)\n",
    "            col.xaxis.set_visible(False)\n",
    "\n",
    "            plt.tight_layout(pad=0) \n",
    "    plt.show()"
   ]
  },
  {
   "cell_type": "code",
   "execution_count": null,
   "id": "dd3001a5-7565-4e66-8cdf-413af41393f0",
   "metadata": {},
   "outputs": [],
   "source": [
    "def draw_tiles_2(path, rows=104, cols=48):\n",
    "    jpgs = glob.glob('/workspace/data/cv_methods/dsmil-wsi/WSI/bcc/pyramid/data/BCC1 (4)_0//*.jpeg')\n",
    "    jpgs_file_names=[]\n",
    "    for path in jpgs:\n",
    "        jpgs_file_names.append(path.split('/')[-1])\n",
    "\n",
    "    path = '/workspace/data/cv_methods/dsmil-wsi/WSI/bcc/pyramid/data/BCC1 (4)_0/'\n",
    "    fig = plt.figure(figsize=(20, 20))\n",
    "    \n",
    "\n",
    "    grid = np.arange(cols*rows).reshape(rows, cols)\n",
    "    \n",
    "    for k in range(1, cols*rows +1):\n",
    "        \n",
    "        row_col = np.where(grid==k-1)\n",
    "        i, j = row_col\n",
    "        i,j = i[0], j[0]\n",
    "\n",
    "        fig.add_subplot(rows, cols, k)\n",
    "        \n",
    "        if f'{i}_{j}.jpeg' in jpgs_file_names:\n",
    "                plt.imshow(plt.imread(path + f'{i}_{j}.jpeg'))\n",
    "        else:\n",
    "                plt.imshow(np.zeros((224, 224, 3)) + 0.97)\n",
    "                \n",
    "        plt.axis('off')\n",
    "        plt.tight_layout()\n",
    "    plt.show()"
   ]
  },
  {
   "cell_type": "code",
   "execution_count": null,
   "id": "98e5c728-0b1f-49ff-9db1-ed78f90265a0",
   "metadata": {},
   "outputs": [],
   "source": [
    "file_name = 'BCC463 (2)_2'\n",
    "jpgs = glob.glob(f'/workspace/data/cv_methods/dsmil-wsi/WSI/bcc/pyramid/3/{file_name}/*.jpeg')\n",
    "len(jpgs)"
   ]
  },
  {
   "cell_type": "code",
   "execution_count": null,
   "id": "db0b9ab5-e2cc-490c-8418-7599805bc4f9",
   "metadata": {},
   "outputs": [],
   "source": [
    "adj_s = torch.load(f'/workspace/data/cv_methods/tmi2022/graphs/simclr_files_double/{file_name}_files/adj_s.pt', map_location=lambda storage, loc: storage)\n",
    "np.shape(adj_s)[0]"
   ]
  },
  {
   "cell_type": "code",
   "execution_count": null,
   "id": "d25ffb2c-dc80-42f4-9b62-e9addc93ad96",
   "metadata": {},
   "outputs": [],
   "source": [
    "c_idx = pd.read_csv(f'/workspace/data/cv_methods/tmi2022/graphs/simclr_files_double/{file_name}_files/c_idx.txt', delimiter='\\t', header=None)\n",
    "c_idx.shape"
   ]
  },
  {
   "cell_type": "code",
   "execution_count": null,
   "id": "4bd7fd1f-65b4-4689-8b38-8d71b173d6d9",
   "metadata": {},
   "outputs": [],
   "source": [
    "features = torch.load(f'/workspace/data/cv_methods/tmi2022/graphs/simclr_files_double/{file_name}_files/features.pt', map_location=lambda storage, loc: storage)\n",
    "pf = pd.DataFrame(np.array(features))\n",
    "pf.shape"
   ]
  },
  {
   "cell_type": "code",
   "execution_count": null,
   "id": "97819ef2-019c-438f-ac33-4a49041c5497",
   "metadata": {},
   "outputs": [],
   "source": [
    "features_double = pd.read_csv(f'/workspace/data/cv_methods/dsmil-wsi/datasets/bcc/3/{file_name}.csv')\n",
    "features_double.shape"
   ]
  },
  {
   "cell_type": "code",
   "execution_count": null,
   "id": "d99f33bb-0fff-4903-9ff0-65197608adce",
   "metadata": {},
   "outputs": [],
   "source": [
    "jpgs_file_names = []\n",
    "for path in jpgs:\n",
    "    jpgs_file_names.append(path.split('/')[-1])"
   ]
  },
  {
   "cell_type": "code",
   "execution_count": null,
   "id": "c3a8436d-3845-41d2-8441-0c59315a9e2e",
   "metadata": {},
   "outputs": [],
   "source": [
    "G = nx.from_numpy_matrix(np.array(adj_s))"
   ]
  },
  {
   "cell_type": "code",
   "execution_count": null,
   "id": "1a13ce9c-88b5-4b73-a003-658190e38594",
   "metadata": {},
   "outputs": [],
   "source": [
    "draw_G(G)"
   ]
  },
  {
   "cell_type": "code",
   "execution_count": null,
   "id": "aa882eda-1f2c-4fa4-9a96-bff390c16c31",
   "metadata": {},
   "outputs": [],
   "source": []
  }
 ],
 "metadata": {
  "kernelspec": {
   "display_name": "Python 3 (ipykernel)",
   "language": "python",
   "name": "python3"
  },
  "language_info": {
   "codemirror_mode": {
    "name": "ipython",
    "version": 3
   },
   "file_extension": ".py",
   "mimetype": "text/x-python",
   "name": "python",
   "nbconvert_exporter": "python",
   "pygments_lexer": "ipython3",
   "version": "3.8.13"
  }
 },
 "nbformat": 4,
 "nbformat_minor": 5
}
