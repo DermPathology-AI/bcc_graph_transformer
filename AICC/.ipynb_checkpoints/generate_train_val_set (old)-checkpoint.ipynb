{
 "cells": [
  {
   "cell_type": "code",
   "execution_count": 33,
   "id": "93dac4bf-c848-46f9-923a-f9da8db7cbee",
   "metadata": {},
   "outputs": [],
   "source": [
    "import glob\n",
    "import pandas as pd\n",
    "import numpy as np\n",
    "import shutil\n",
    "from tqdm import tqdm\n",
    "import re\n",
    "from sklearn import model_selection \n",
    "from file_names_2_df_patient_id import file_names_2_df_patient"
   ]
  },
  {
   "cell_type": "code",
   "execution_count": 34,
   "id": "4c57da8d-91c9-4a99-9ff2-892dcfaf2076",
   "metadata": {},
   "outputs": [],
   "source": [
    "def split_patients(bcc_annotation):\n",
    "    random_state = 20229\n",
    "    bcc_codes = list(bcc_annotation['bcc code'])\n",
    "    patient_id = list(set([bcc for bcc_code in bcc_codes for bcc in re.findall('^BCC\\d+', bcc_code) if len(bcc)!=0]))\n",
    "    \n",
    "    kf = model_selection.KFold(n_splits=5)\n",
    "    for train, test in kf.split(patient_id):\n",
    "        print(\"%s %s\" % (train, test))\n",
    "        \n",
    "    X_train, X_test = model_selection.train_test_split(pd.DataFrame(patient_id), test_size=0.1, random_state=random_state)\n",
    "    return X_train, X_test\n",
    "\n",
    "\n",
    "def get_file_names_patient(bcc_code):\n",
    "    bcc_files = []\n",
    "    for file in glob.glob('/workspace/data/bcc-projekt-digital/bcc/*/*'):\n",
    "        bcc_files.append(file.split('/')[-1])\n",
    "        \n",
    "    bcc_set=[]\n",
    "    for file in tqdm(bcc_files):\n",
    "        for xt in list(bcc_code['names']):\n",
    "            if xt == file.split(' ')[0]: \n",
    "                bcc_set.append(file)\n",
    "    return bcc_set\n",
    "\n",
    "\n",
    "def annotation_binary_patient(X_test_code, file_save_name):\n",
    "    bcc_annotation = file_names_2_df_patient(path, get_file_names_patient(X_test_code))\n",
    "\n",
    "    bcc_annotation.to_csv('patient_annotation.csv')\n",
    "    \n",
    "    \n",
    "    all_bcc = glob.glob('/workspace/data/cv_methods/tmi2022/WSI/*')\n",
    "    folders = []\n",
    "    for bcc in all_bcc:\n",
    "        if bcc.endswith('.dzi'):pass\n",
    "        else: folders.append(bcc)\n",
    "\n",
    "    wsi_labels = []\n",
    "    for folder in folders:\n",
    "        f = folder.replace('_files','').split('/')[-1]\n",
    "\n",
    "        try:\n",
    "            label = float(bcc_annotation[bcc_annotation['names'] == f + '.ndpi']['label'])\n",
    "            wsi_labels.append((folder.split('/')[-1] + '/20.0', int(label)))\n",
    "        except Exception as e:\n",
    "            #print(e, folder)\n",
    "            pass\n",
    "    \n",
    "    wsi_label_df = pd.DataFrame(wsi_labels, columns=['X', 'y'] )\n",
    "     \n",
    "    X = wsi_label_df['X']\n",
    "    y = wsi_label_df['y'].astype(int)\n",
    "   \n",
    "    y_ = [1 if yt!=0 else 0 for yt in list(y)]\n",
    "    \n",
    "    data_set = pd.DataFrame()\n",
    "    data_set['X'] = X\n",
    "    data_set['y'] = y_\n",
    "\n",
    "\n",
    "    graph_trans_script_path = '/workspace/data/cv_methods/tmi2022/scripts/'\n",
    "    data_set.sort_values(by=['X'], inplace=True)\n",
    "    data_set.to_csv(graph_trans_script_path + f'{file_save_name}', sep='\\t', index=False, header=False)\n",
    "    \n",
    "    return data_set"
   ]
  },
  {
   "cell_type": "code",
   "execution_count": 35,
   "id": "cd434403-eb88-4f76-85eb-d4a4b8d0cecb",
   "metadata": {},
   "outputs": [],
   "source": [
    "bcc_annotation = pd.read_csv('bcc_annotations.csv', delimiter=';')"
   ]
  },
  {
   "cell_type": "code",
   "execution_count": 36,
   "id": "5cd0f08b-84e1-4644-98fe-b93e5d557f0b",
   "metadata": {},
   "outputs": [
    {
     "name": "stdout",
     "output_type": "stream",
     "text": [
      "[ 25  26  27  28  29  30  31  32  33  34  35  36  37  38  39  40  41  42\n",
      "  43  44  45  46  47  48  49  50  51  52  53  54  55  56  57  58  59  60\n",
      "  61  62  63  64  65  66  67  68  69  70  71  72  73  74  75  76  77  78\n",
      "  79  80  81  82  83  84  85  86  87  88  89  90  91  92  93  94  95  96\n",
      "  97  98  99 100 101 102 103 104 105 106 107 108 109 110 111 112 113 114\n",
      " 115 116 117 118 119 120 121] [ 0  1  2  3  4  5  6  7  8  9 10 11 12 13 14 15 16 17 18 19 20 21 22 23\n",
      " 24]\n",
      "[  0   1   2   3   4   5   6   7   8   9  10  11  12  13  14  15  16  17\n",
      "  18  19  20  21  22  23  24  50  51  52  53  54  55  56  57  58  59  60\n",
      "  61  62  63  64  65  66  67  68  69  70  71  72  73  74  75  76  77  78\n",
      "  79  80  81  82  83  84  85  86  87  88  89  90  91  92  93  94  95  96\n",
      "  97  98  99 100 101 102 103 104 105 106 107 108 109 110 111 112 113 114\n",
      " 115 116 117 118 119 120 121] [25 26 27 28 29 30 31 32 33 34 35 36 37 38 39 40 41 42 43 44 45 46 47 48\n",
      " 49]\n",
      "[  0   1   2   3   4   5   6   7   8   9  10  11  12  13  14  15  16  17\n",
      "  18  19  20  21  22  23  24  25  26  27  28  29  30  31  32  33  34  35\n",
      "  36  37  38  39  40  41  42  43  44  45  46  47  48  49  74  75  76  77\n",
      "  78  79  80  81  82  83  84  85  86  87  88  89  90  91  92  93  94  95\n",
      "  96  97  98  99 100 101 102 103 104 105 106 107 108 109 110 111 112 113\n",
      " 114 115 116 117 118 119 120 121] [50 51 52 53 54 55 56 57 58 59 60 61 62 63 64 65 66 67 68 69 70 71 72 73]\n",
      "[  0   1   2   3   4   5   6   7   8   9  10  11  12  13  14  15  16  17\n",
      "  18  19  20  21  22  23  24  25  26  27  28  29  30  31  32  33  34  35\n",
      "  36  37  38  39  40  41  42  43  44  45  46  47  48  49  50  51  52  53\n",
      "  54  55  56  57  58  59  60  61  62  63  64  65  66  67  68  69  70  71\n",
      "  72  73  98  99 100 101 102 103 104 105 106 107 108 109 110 111 112 113\n",
      " 114 115 116 117 118 119 120 121] [74 75 76 77 78 79 80 81 82 83 84 85 86 87 88 89 90 91 92 93 94 95 96 97]\n",
      "[ 0  1  2  3  4  5  6  7  8  9 10 11 12 13 14 15 16 17 18 19 20 21 22 23\n",
      " 24 25 26 27 28 29 30 31 32 33 34 35 36 37 38 39 40 41 42 43 44 45 46 47\n",
      " 48 49 50 51 52 53 54 55 56 57 58 59 60 61 62 63 64 65 66 67 68 69 70 71\n",
      " 72 73 74 75 76 77 78 79 80 81 82 83 84 85 86 87 88 89 90 91 92 93 94 95\n",
      " 96 97] [ 98  99 100 101 102 103 104 105 106 107 108 109 110 111 112 113 114 115\n",
      " 116 117 118 119 120 121]\n"
     ]
    },
    {
     "name": "stderr",
     "output_type": "stream",
     "text": [
      "100%|██████████| 507/507 [00:00<00:00, 33472.04it/s]\n",
      "100%|██████████| 507/507 [00:00<00:00, 145851.31it/s]\n"
     ]
    }
   ],
   "source": [
    "path = '/workspace/data/bcc-projekt-digital/bcc/*/'\n",
    "X_train_code, X_test_code = split_patients(bcc_annotation)\n",
    "X_train_code.columns, X_test_code.columns = ['names'],['names']\n",
    "df_train = annotation_binary_patient(X_train_code, file_save_name='train_set.txt')\n",
    "df_test = annotation_binary_patient (X_test_code,  file_save_name='val_set.txt')"
   ]
  },
  {
   "cell_type": "code",
   "execution_count": 37,
   "id": "e9a3552b-d631-423e-9ba8-fa6129283372",
   "metadata": {},
   "outputs": [],
   "source": [
    "def get_label_percentage(data):\n",
    "    return data['y'].value_counts()/data.shape[0]"
   ]
  },
  {
   "cell_type": "code",
   "execution_count": 38,
   "id": "582cb97f-93d9-4789-af87-41740e428432",
   "metadata": {},
   "outputs": [
    {
     "data": {
      "text/plain": [
       "1    0.54386\n",
       "0    0.45614\n",
       "Name: y, dtype: float64"
      ]
     },
     "execution_count": 38,
     "metadata": {},
     "output_type": "execute_result"
    }
   ],
   "source": [
    "get_label_percentage(df_test)"
   ]
  },
  {
   "cell_type": "code",
   "execution_count": 39,
   "id": "e1b13efc-03fe-48e3-a42f-332688280872",
   "metadata": {},
   "outputs": [
    {
     "ename": "NameError",
     "evalue": "name 'patient_id' is not defined",
     "output_type": "error",
     "traceback": [
      "\u001b[0;31m---------------------------------------------------------------------------\u001b[0m",
      "\u001b[0;31mNameError\u001b[0m                                 Traceback (most recent call last)",
      "Input \u001b[0;32mIn [39]\u001b[0m, in \u001b[0;36m<cell line: 2>\u001b[0;34m()\u001b[0m\n\u001b[1;32m      1\u001b[0m kf \u001b[38;5;241m=\u001b[39m model_selection\u001b[38;5;241m.\u001b[39mKFold(n_splits\u001b[38;5;241m=\u001b[39m\u001b[38;5;241m2\u001b[39m)\n\u001b[0;32m----> 2\u001b[0m \u001b[38;5;28;01mfor\u001b[39;00m train, test \u001b[38;5;129;01min\u001b[39;00m kf\u001b[38;5;241m.\u001b[39msplit(\u001b[43mpatient_id\u001b[49m):\n\u001b[1;32m      3\u001b[0m     \u001b[38;5;28mprint\u001b[39m(\u001b[38;5;124m\"\u001b[39m\u001b[38;5;132;01m%s\u001b[39;00m\u001b[38;5;124m \u001b[39m\u001b[38;5;132;01m%s\u001b[39;00m\u001b[38;5;124m\"\u001b[39m \u001b[38;5;241m%\u001b[39m (train, test))\n",
      "\u001b[0;31mNameError\u001b[0m: name 'patient_id' is not defined"
     ]
    }
   ],
   "source": [
    "kf = model_selection.KFold(n_splits=2)\n",
    "for train, test in kf.split(patient_id):\n",
    "    print(\"%s %s\" % (train, test))"
   ]
  },
  {
   "cell_type": "code",
   "execution_count": null,
   "id": "579cd7b0-c0b5-468b-96d2-7944a9e4c011",
   "metadata": {},
   "outputs": [],
   "source": []
  }
 ],
 "metadata": {
  "kernelspec": {
   "display_name": "Python 3 (ipykernel)",
   "language": "python",
   "name": "python3"
  },
  "language_info": {
   "codemirror_mode": {
    "name": "ipython",
    "version": 3
   },
   "file_extension": ".py",
   "mimetype": "text/x-python",
   "name": "python",
   "nbconvert_exporter": "python",
   "pygments_lexer": "ipython3",
   "version": "3.8.13"
  }
 },
 "nbformat": 4,
 "nbformat_minor": 5
}
