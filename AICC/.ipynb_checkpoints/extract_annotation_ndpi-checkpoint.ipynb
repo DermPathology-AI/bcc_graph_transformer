{
 "cells": [
  {
   "cell_type": "markdown",
   "id": "609e66f9-1119-4502-ab3f-bdd944b700e2",
   "metadata": {
    "tags": []
   },
   "source": [
    "## Extract labels from file names"
   ]
  },
  {
   "cell_type": "code",
   "execution_count": null,
   "id": "fc84d6a3-1dd1-4854-a743-ac00ee2663a5",
   "metadata": {},
   "outputs": [],
   "source": [
    "import pandas as pd\n",
    "import glob\n",
    "import numpy as np\n",
    "import matplotlib.pyplot as plt\n",
    "#from file_names_2_df import file_names_2_df"
   ]
  },
  {
   "cell_type": "code",
   "execution_count": null,
   "id": "c739d7a2-f197-4646-a751-0130aaf8b830",
   "metadata": {},
   "outputs": [],
   "source": [
    "path = 'P:/AI.Repository/BCC projekt-digital/'"
   ]
  },
  {
   "cell_type": "code",
   "execution_count": null,
   "id": "9f38f7b8-881c-4fd6-a1fa-fb0954a328ba",
   "metadata": {},
   "outputs": [],
   "source": [
    "annotated = file_names_2_df(path, split_by='\\\\')\n",
    "#annotated.to_excel('P:/AI.Repository/bcc_annotations.xlsx')"
   ]
  },
  {
   "cell_type": "code",
   "execution_count": null,
   "id": "b2fd48ac-cb2c-4632-93f9-110c537f6b00",
   "metadata": {},
   "outputs": [],
   "source": []
  },
  {
   "cell_type": "code",
   "execution_count": null,
   "id": "d4da15f9-0998-403d-97b8-4e1c4b47cc42",
   "metadata": {},
   "outputs": [],
   "source": [
    "old_files = pd.read_excel('P:/AI.Repository/old_bcc_annotations.xlsx')\n",
    "annotated_old = file_names_2_df_temp(list(old_files.address), split_by='\\\\')\n",
    "annotated_old_2 = [b.replace('(', '-').replace(' ','').replace(')','') for b in list(annotated_old['bcc code'])]"
   ]
  },
  {
   "cell_type": "code",
   "execution_count": null,
   "id": "e36fb5d0-c447-4a5d-8e79-91c2c6a79517",
   "metadata": {},
   "outputs": [],
   "source": [
    "fig = plt.figure()\n",
    "annotated['label'].value_counts().plot(kind='bar', xlabel='Label', ylabel='Number of WSI')\n",
    "total_annotated = len(glob.glob(path + '/*')) - annotated['label'].isna().sum()\n",
    "plt.legend([f'Total: {total_annotated}'])\n",
    "plt.savefig('P:/AI.Repository/annoation_stat.jpg')\n",
    "# 406-453\n",
    "# 94-97"
   ]
  },
  {
   "cell_type": "markdown",
   "id": "de03025a-3055-47ca-b114-2e8ffecc56f7",
   "metadata": {},
   "source": [
    "### Number of patients "
   ]
  },
  {
   "cell_type": "code",
   "execution_count": null,
   "id": "43616a6d-647d-426b-9d47-75920e7aa3a9",
   "metadata": {},
   "outputs": [],
   "source": [
    "import re\n",
    "bcc_codes = list(annotated['bcc code'])\n",
    "num_patients = len(set([bcc for bcc_code in bcc_codes for bcc in re.findall('^BCC\\d+', bcc_code) if len(bcc)!=0]))"
   ]
  },
  {
   "cell_type": "code",
   "execution_count": null,
   "id": "84bb27f4-444e-4dc9-b229-625814998220",
   "metadata": {},
   "outputs": [],
   "source": [
    "num_patients"
   ]
  },
  {
   "cell_type": "code",
   "execution_count": null,
   "id": "724c037e-a395-4aa6-856a-85df6c619eb5",
   "metadata": {},
   "outputs": [],
   "source": []
  },
  {
   "cell_type": "markdown",
   "id": "160bff80-2a51-4c38-bae6-6bf9fff494cf",
   "metadata": {},
   "source": [
    "### Train, validation and test sets stat"
   ]
  },
  {
   "cell_type": "code",
   "execution_count": null,
   "id": "8250026b-39a6-4384-a41a-e9e77841aa28",
   "metadata": {},
   "outputs": [],
   "source": [
    "N = 4\n",
    "ndpi_files = sorted(glob.glob(path + '/*'), reverse=True)\n",
    "train_stat = np.array((len(ndpi_files)*0.8*0.6, len(ndpi_files)*0.8*0.3, len(ndpi_files)*0.8*0.3, len(ndpi_files)*0.8*0.3)).astype(int)\n",
    "val_stat = np.array((len(ndpi_files)*0.1*0.6, len(ndpi_files)*0.1*0.3, len(ndpi_files)*0.1*0.3, len(ndpi_files)*0.1*0.3)).astype(int)\n",
    "#test_stat = np.array((len(ndpi_files)*0.1*0.6, len(ndpi_files)*0.1*0.3, len(ndpi_files)*0.1*0.3, len(ndpi_files)*0.1*0.3)).astype(int)\n",
    "\n",
    "ind = np.arange(N)    \n",
    "width = 0.35       \n",
    "fig, ax = plt.subplots()\n",
    "\n",
    "p1 = ax.bar(ind, train_stat, width, label='Train')\n",
    "p2 = ax.bar(ind, val_stat, width, bottom=train_stat, label='Validation')\n",
    "#p3 = ax.bar(ind, test_stat, width, bottom=train_stat + val_stat, label='Test')\n",
    "\n",
    "ax.axhline(0, color='grey', linewidth=0.8)\n",
    "ax.set_ylabel('Number of WSI')\n",
    "ax.set_xlabel('BCC classification')\n",
    "ax.set_xticks(ind, labels=['0', '1', '2', '3', '4'])\n",
    "ax.legend()\n",
    "\n",
    "ax.bar_label(p1, label_type='center')\n",
    "ax.bar_label(p2, label_type='center')\n",
    "ax.bar_label(p3, label_type='center')\n",
    "ax.bar_label(p3)\n",
    "\n",
    "plt.savefig('annoation_stat.jpg')\n",
    "plt.show()"
   ]
  },
  {
   "cell_type": "code",
   "execution_count": 17,
   "id": "bc230313-5155-404b-81d3-b086b0ccc848",
   "metadata": {},
   "outputs": [],
   "source": [
    "path = '/workspace/data/cv_methods/tmi2022/scripts/'"
   ]
  },
  {
   "cell_type": "code",
   "execution_count": 18,
   "id": "20af884a-d67a-4b29-a01f-c48a66a2ae40",
   "metadata": {},
   "outputs": [
    {
     "data": {
      "text/plain": [
       "0    69\n",
       "Name: 0, dtype: int64"
      ]
     },
     "execution_count": 18,
     "metadata": {},
     "output_type": "execute_result"
    }
   ],
   "source": [
    "training= pd.read_csv(path + 'train_set.txt', delimiter = '\\t')\n",
    "training.iloc[:,1].value_counts()"
   ]
  },
  {
   "cell_type": "code",
   "execution_count": 19,
   "id": "617fa4b5-755f-473a-9a35-09cf7f597c11",
   "metadata": {},
   "outputs": [
    {
     "data": {
      "text/plain": [
       "0    7\n",
       "Name: 0, dtype: int64"
      ]
     },
     "execution_count": 19,
     "metadata": {},
     "output_type": "execute_result"
    }
   ],
   "source": [
    "test= pd.read_csv(path + 'val_set.txt', delimiter = '\\t')\n",
    "test.iloc[:,1].value_counts()"
   ]
  },
  {
   "cell_type": "code",
   "execution_count": null,
   "id": "3d409d2c-a755-4aec-983a-be35134a6a68",
   "metadata": {},
   "outputs": [],
   "source": []
  },
  {
   "cell_type": "code",
   "execution_count": null,
   "id": "a70364bd-e9c4-4355-9062-b66e6493b63b",
   "metadata": {},
   "outputs": [],
   "source": []
  }
 ],
 "metadata": {
  "kernelspec": {
   "display_name": "Python 3 (ipykernel)",
   "language": "python",
   "name": "python3"
  },
  "language_info": {
   "codemirror_mode": {
    "name": "ipython",
    "version": 3
   },
   "file_extension": ".py",
   "mimetype": "text/x-python",
   "name": "python",
   "nbconvert_exporter": "python",
   "pygments_lexer": "ipython3",
   "version": "3.8.13"
  }
 },
 "nbformat": 4,
 "nbformat_minor": 5
}
