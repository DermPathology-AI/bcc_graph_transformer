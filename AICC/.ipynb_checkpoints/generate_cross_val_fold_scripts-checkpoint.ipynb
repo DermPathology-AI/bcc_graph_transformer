{
 "cells": [
  {
   "cell_type": "markdown",
   "id": "084dc941-6a99-46a3-8d23-585e3d66daaf",
   "metadata": {},
   "source": [
    "## Generate config scripts"
   ]
  },
  {
   "cell_type": "code",
   "execution_count": 1,
   "id": "f406cde5-ef1c-4b7d-9de6-997026ac74dc",
   "metadata": {},
   "outputs": [],
   "source": [
    "# Restart the note book everytime you run it."
   ]
  },
  {
   "cell_type": "code",
   "execution_count": 2,
   "id": "b85f16ce-dfd4-4212-baac-a10bcbdaf561",
   "metadata": {},
   "outputs": [],
   "source": [
    "import re"
   ]
  },
  {
   "cell_type": "code",
   "execution_count": 8,
   "id": "67401dfb-c6bb-4f5f-8683-4fd343cac70b",
   "metadata": {},
   "outputs": [],
   "source": [
    "clas = 5 # change to either 2, 3 or 5\n",
    "low_high = 'high' # change to either low, high, single"
   ]
  },
  {
   "cell_type": "markdown",
   "id": "38343cb9-615d-4119-bc4d-35f80bb10300",
   "metadata": {},
   "source": [
    "## 1. Single mangnification"
   ]
  },
  {
   "cell_type": "code",
   "execution_count": 9,
   "id": "355db3b3-ad4e-46a9-9278-9d45cff92aa2",
   "metadata": {},
   "outputs": [],
   "source": [
    "with open('../scripts/train.sh','r') as f:\n",
    "    f = f.readlines()\n",
    "def write_cross_val_train (folds=5, clas=2, low_high=None):\n",
    "    for fold in range(folds):\n",
    "        #f[0]= f[0].replace(re.findall('\\d', f[0])[0], f'{fold}')\n",
    "        f[2]= f[2].replace(re.findall('\\d', f[2])[0], f'{clas}')\n",
    "        f[3]= f[3].replace(re.findall('simclr_files_double_\\w*', f[3])[0], f'simclr_files_double_{low_high}')\n",
    "        f[4]= f[4].replace(re.findall('train_set_\\d\\w_\\d\\w', f[4])[0], f'train_set_{clas}C_{fold}F')\n",
    "        f[5]= f[5].replace(re.findall('val_set_\\d\\w_\\d\\w', f[5])[0], f'val_set_{clas}C_{fold}F')\n",
    "        \n",
    "        if low_high=='low':\n",
    "            f[8]= f[8].replace(re.findall('GT_\\d\\w_\\d\\w_\\w*', f[8])[0], f'GT_{clas}C_{fold}F_low')\n",
    "        elif low_high=='high':\n",
    "            f[8]= f[8].replace(re.findall('GT_\\d\\w_\\d\\w_\\w*', f[8])[0], f'GT_{clas}C_{fold}F_high')\n",
    "        elif low_high=='concat':\n",
    "            f[8]= f[8].replace(re.findall('GT_\\d\\w_\\d\\w_\\w*', f[8])[0], f'GT_{clas}C_{fold}F_concat')\n",
    "        else:\n",
    "            f[8]= f[8].replace(re.findall('GT_\\d\\w_\\d\\w_\\w*', f[8])[0], f'GT_{clas}C_{fold}F_{low_high}')\n",
    "            \n",
    "        with open(f'../scripts/train_cv_{fold}.sh', 'w') as replaced:\n",
    "            replaced.writelines(f)"
   ]
  },
  {
   "cell_type": "code",
   "execution_count": 10,
   "id": "b926151b-2a54-451d-a7fa-02a9913ecdcf",
   "metadata": {},
   "outputs": [],
   "source": [
    "write_cross_val_train(folds=5, clas=clas, low_high=low_high)"
   ]
  },
  {
   "cell_type": "code",
   "execution_count": 6,
   "id": "ecfc63b1-cb0d-470d-91e6-1bf6431974e7",
   "metadata": {},
   "outputs": [],
   "source": [
    "with open('../scripts/test_low_high.sh','r') as f: # test.sh is the source config.\n",
    "    f = f.readlines()\n",
    "def write_cross_test_single (folds=5, clas=2, low_high='low'):\n",
    "    for fold in range(folds): \n",
    "        f[2]= f[2].replace(re.findall('\\d', f[2])[0], f'{clas}')\n",
    "        f[3]= f[3].replace(re.findall('simclr_files_double_\\w*', f[3])[0], f'simclr_files_double_{low_high}')\n",
    "        f[4]= f[4].replace(re.findall('test_set_\\d\\w_\\d\\w', f[4])[0], f'test_set_{clas}C_0F')\n",
    "        f[7]= f[7].replace(re.findall('GT_\\d\\w_\\d\\w_\\w*', f[7])[0], f'GT_{clas}C_{fold}F_{low_high}_test')\n",
    "        f[11]= f[11].replace(re.findall('GT_\\d\\w_\\d\\w_\\w*', f[11])[0], f'GT_{clas}C_{fold}F_{low_high}')\n",
    "        \n",
    "        with open(f'../scripts/test_cv_{fold}.sh', 'w') as replaced:\n",
    "            replaced.writelines(f)"
   ]
  },
  {
   "cell_type": "code",
   "execution_count": 7,
   "id": "ebc554eb-5c40-4164-bf02-42ace3619d69",
   "metadata": {},
   "outputs": [],
   "source": [
    "write_cross_test_single(folds=5, clas=clas, low_high=low_high)"
   ]
  },
  {
   "cell_type": "markdown",
   "id": "056ca849-ec54-4ccf-ae8f-dc52248e4197",
   "metadata": {},
   "source": [
    "## 2. Double magnificaton"
   ]
  },
  {
   "cell_type": "markdown",
   "id": "fbe3f66b-5fcc-459c-a9cc-b331655a45d9",
   "metadata": {},
   "source": [
    "### Training"
   ]
  },
  {
   "cell_type": "code",
   "execution_count": 8,
   "id": "89653f14-a618-4012-9006-3df5d7431aff",
   "metadata": {},
   "outputs": [],
   "source": [
    "with open('../scripts//train_double.sh','r') as f: # train_double.sh is the source config.\n",
    "    f = f.readlines()\n",
    "def write_cross_val_train_double (folds=5, clas=2):\n",
    "    for fold in range(folds):\n",
    "        #f[0]= f[0].replace(re.findall('\\d', f[0])[0], f'{fold}')\n",
    "        f[2]= f[2].replace(re.findall('\\d', f[2])[0], f'{clas}')\n",
    "        f[4]= f[4].replace(re.findall('train_set_\\d\\w_\\d\\w', f[4])[0], f'train_set_{clas}C_{fold}F')\n",
    "        f[5]= f[5].replace(re.findall('val_set_\\d\\w_\\d\\w', f[5])[0], f'val_set_{clas}C_{fold}F')\n",
    "        f[8]= f[8].replace(re.findall('GT_double_\\d\\w_\\d\\w', f[8])[0], f'GT_double_{clas}C_{fold}F')\n",
    "        with open(f'../scripts/train_cv_double_{fold}.sh', 'w') as replaced:\n",
    "            replaced.writelines(f)"
   ]
  },
  {
   "cell_type": "code",
   "execution_count": 9,
   "id": "bcba70a0-c675-47d7-abc3-a52fc9fa39ac",
   "metadata": {},
   "outputs": [],
   "source": [
    "write_cross_val_train_double(folds=5, clas=clas)"
   ]
  },
  {
   "cell_type": "markdown",
   "id": "e556dbea-ec25-49a8-824a-a56683b1b157",
   "metadata": {},
   "source": [
    "### Validation"
   ]
  },
  {
   "cell_type": "code",
   "execution_count": 10,
   "id": "e361d36b-cc68-4e79-bc88-88fbafcd7449",
   "metadata": {},
   "outputs": [],
   "source": [
    "with open('../scripts/validation.sh','r') as f:\n",
    "    f = f.readlines()\n",
    "def write_cross_val (folds=5, clas=2):\n",
    "    for fold in range(folds):\n",
    "        f[2]= f[2].replace(re.findall('\\d', f[2])[0], f'{clas}')\n",
    "        f[7]= f[7].replace(re.findall('GT_double_\\d\\w_\\d\\w', f[7])[0], f'GT_double_{clas}C_{fold}F')\n",
    "        f[11]= f[11].replace(re.findall('GT_double_\\d\\w_\\d\\w', f[11])[0], f'GT_double_{clas}C_{fold}F')\n",
    "        with open(f'/workspace/data/cv_methods/tmi2022/scripts/val_cv_{fold}.sh', 'w') as replaced:\n",
    "            replaced.writelines(f)"
   ]
  },
  {
   "cell_type": "code",
   "execution_count": 11,
   "id": "7995a2f0-2b60-4350-8172-1fb12c39743b",
   "metadata": {},
   "outputs": [],
   "source": [
    "#write_cross_val(folds=5, clas=clas)"
   ]
  },
  {
   "cell_type": "markdown",
   "id": "64aeff48-2ea5-4d5e-9b40-4ef14972f3cd",
   "metadata": {},
   "source": [
    "### Testing"
   ]
  },
  {
   "cell_type": "code",
   "execution_count": 12,
   "id": "067b065e-b415-4318-8190-d5b2321e934e",
   "metadata": {},
   "outputs": [],
   "source": [
    "with open('../scripts/test.sh','r') as f: # test.sh is the source config.\n",
    "    f = f.readlines()\n",
    "def write_cross_test (folds=5, clas=2):\n",
    "    for fold in range(folds): \n",
    "        f[2]= f[2].replace(re.findall('\\d', f[2])[0], f'{clas}')\n",
    "        f[4]= f[4].replace(re.findall('test_set_\\d\\w_\\d\\w', f[4])[0], f'test_set_{clas}C_0F')\n",
    "        f[7]= f[7].replace(re.findall('GT_double_\\d\\w_\\d\\w', f[7])[0], f'GT_double_{clas}C_{fold}F')\n",
    "        f[11]= f[11].replace(re.findall('GT_double_\\d\\w_\\d\\w', f[11])[0], f'GT_double_{clas}C_{fold}F')\n",
    "        with open(f'/workspace/data/cv_methods/tmi2022/scripts/test_cv_double_{fold}.sh', 'w') as replaced:\n",
    "            replaced.writelines(f)"
   ]
  },
  {
   "cell_type": "code",
   "execution_count": 13,
   "id": "73ed1d33-71fa-47fd-a75b-eef1143a3d13",
   "metadata": {},
   "outputs": [],
   "source": [
    "write_cross_test(folds=5, clas=clas)"
   ]
  }
 ],
 "metadata": {
  "kernelspec": {
   "display_name": "Python 3 (ipykernel)",
   "language": "python",
   "name": "python3"
  },
  "language_info": {
   "codemirror_mode": {
    "name": "ipython",
    "version": 3
   },
   "file_extension": ".py",
   "mimetype": "text/x-python",
   "name": "python",
   "nbconvert_exporter": "python",
   "pygments_lexer": "ipython3",
   "version": "3.8.13"
  }
 },
 "nbformat": 4,
 "nbformat_minor": 5
}
